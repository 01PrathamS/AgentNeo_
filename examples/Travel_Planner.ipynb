{
 "cells": [
  {
   "cell_type": "markdown",
   "metadata": {},
   "source": [
    "# Travel Agent Planner with AgentNeo Integration\n",
    "\n",
    "This Jupyter notebook demonstrates the integration of AgentNeo, a powerful tracing and monitoring tool, with a Travel Agent Planner system. AgentNeo provides seamless tracing capabilities for both function calls and AI model interactions, allowing for comprehensive analysis and debugging of complex systems."
   ]
  },
  {
   "cell_type": "markdown",
   "metadata": {},
   "source": [
    "\n",
    "# Setup and Imports\n",
    "First, let's import the necessary libraries and set up our environment."
   ]
  },
  {
   "cell_type": "code",
   "execution_count": 1,
   "metadata": {},
   "outputs": [],
   "source": [
    "import os\n",
    "import requests\n",
    "from dotenv import load_dotenv\n",
    "from litellm import completion\n",
    "import openai\n",
    "from openai import OpenAI"
   ]
  },
  {
   "cell_type": "code",
   "execution_count": 2,
   "metadata": {},
   "outputs": [],
   "source": [
    "# Load environment variables\n",
    "load_dotenv(\"enter your .env file path \")\n",
    "\n",
    "\n",
    "# Initialize OpenAI API\n",
    "openai.api_key = os.getenv(\"OPENAI_API_KEY\")\n",
    "\n"
   ]
  },
  {
   "cell_type": "code",
   "execution_count": 3,
   "metadata": {},
   "outputs": [
    {
     "name": "stdout",
     "output_type": "stream",
     "text": [
      "Project connected successfully\n",
      "Project 'ai_travel_agent_demo1' found.\n",
      "Tracing Started.\n"
     ]
    }
   ],
   "source": [
    "# Initialize AgentNeo Package\n",
    "import os\n",
    "os.chdir('..')\n",
    "\n",
    "from agentneo import AgentNeo, Tracer, Evaluation,launch_dashboard\n",
    "# Initialize AgentNeo session\n",
    "# Create project\n",
    "neo_session = AgentNeo(session_name=\"test\")\n",
    "\n",
    "project_name = \"ai_travel_agent_demo1\"\n",
    "\n",
    "try:\n",
    "    neo_session.create_project(project_name=project_name)\n",
    "    print(\"Project created successfully\")\n",
    "except:\n",
    "    neo_session.connect_project(project_name=project_name)\n",
    "    print(\"Project connected successfully\")\n",
    "# Start tracing\n",
    "tracer = Tracer(session=neo_session)\n",
    "tracer.start()"
   ]
  },
  {
   "cell_type": "markdown",
   "metadata": {},
   "source": [
    "# Travel Agent Tools\n",
    "Now, let's define our Travel Agent Planner Tools with AgentNeo integration."
   ]
  },
  {
   "cell_type": "code",
   "execution_count": 4,
   "metadata": {},
   "outputs": [],
   "source": [
    "@tracer.trace_llm(name=\"llm_call\")\n",
    "def llm_call(prompt, max_tokens=512, model=\"gpt-4o-mini\"):\n",
    "    client = OpenAI(api_key=os.environ[\"OPENAI_API_KEY\"])\n",
    "\n",
    "    response = client.chat.completions.create(\n",
    "        model=model,\n",
    "        messages=[{\"role\": \"user\", \"content\": prompt}],\n",
    "        max_tokens=max_tokens,\n",
    "        temperature=0.7,\n",
    "    )\n",
    "\n",
    "    return response.choices[0].message.content.strip()\n",
    "\n",
    "\n",
    "# Tools outside agents\n",
    "@tracer.trace_tool(name=\"weather_tool\")\n",
    "def weather_tool(destination):\n",
    "\n",
    "    api_key = os.environ.get(\"OPENWEATHERMAP_API_KEY\")\n",
    "    base_url = \"http://api.openweathermap.org/data/2.5/weather\"\n",
    "\n",
    "    params = {\"q\": destination, \"appid\": api_key, \"units\": \"metric\"}\n",
    "\n",
    "    try:\n",
    "        response = requests.get(base_url, params=params)\n",
    "        response.raise_for_status()\n",
    "        data = response.json()\n",
    "\n",
    "        weather_description = data[\"weather\"][0][\"description\"]\n",
    "        temperature = data[\"main\"][\"temp\"]\n",
    "\n",
    "        return f\"{weather_description.capitalize()}, {temperature:.1f}°C\"\n",
    "    except requests.RequestException:\n",
    "        return \"Weather data not available.\"\n",
    "\n",
    "\n",
    "@tracer.trace_tool(name=\"currency_converter_tool\")\n",
    "def currency_converter_tool(amount, from_currency, to_currency):\n",
    "    api_key = os.environ.get(\"EXCHANGERATE_API_KEY\")\n",
    "    base_url = f\"https://v6.exchangerate-api.com/v6/{api_key}/pair/{from_currency}/{to_currency}\"\n",
    "\n",
    "    try:\n",
    "        response = requests.get(base_url)\n",
    "        response.raise_for_status()\n",
    "        data = response.json()\n",
    "\n",
    "        if data[\"result\"] == \"success\":\n",
    "            rate = data[\"conversion_rate\"]\n",
    "            return amount * rate\n",
    "        else:\n",
    "            return None\n",
    "    except requests.RequestException:\n",
    "        return None\n",
    "\n",
    "\n",
    "@tracer.trace_tool(name=\"flight_price_estimator_tool\")\n",
    "def flight_price_estimator_tool(origin, destination):\n",
    "    # This is a mock function. In a real scenario, you'd integrate with a flight API.\n",
    "    api_key = os.environ.get(\"FLIGHT_API_KEY\")\n",
    "    # Implement actual API call here\n",
    "    return f\"Estimated price from {origin} to {destination}: $500-$1000\"\n",
    "\n",
    "\n",
    "# Agent with persona\n",
    "@tracer.trace_agent(name=\"itinerary_agent\")\n",
    "class ItineraryAgent:\n",
    "    def __init__(self, persona=\"Itinerary Agent\"):\n",
    "        self.persona = persona\n",
    "\n",
    "    def plan_itinerary(self, user_preferences, duration=3):\n",
    "        itinerary_prompt = f\"\"\"\n",
    "You are a travel expert named {self.persona}.\n",
    "Based on the following user preferences, create a {duration}-day travel itinerary.\n",
    "\n",
    "User Preferences:\n",
    "{user_preferences}\n",
    "\n",
    "Itinerary:\n",
    "\"\"\"\n",
    "        return llm_call(itinerary_prompt, max_tokens=512)\n",
    "\n",
    "\n"
   ]
  },
  {
   "cell_type": "markdown",
   "metadata": {},
   "source": [
    "\n",
    "# Running the Analysis\n",
    "Now let's create a  main function for our Travel Agent Planner which recall all tools "
   ]
  },
  {
   "cell_type": "code",
   "execution_count": 5,
   "metadata": {},
   "outputs": [],
   "source": [
    "# Main function\n",
    "\n",
    "@tracer.trace_agent(name=\"travel_agent\")\n",
    "def travel_agent():\n",
    "    print(\"Welcome to the Personalized Travel Planner!\\n\")\n",
    "\n",
    "    # Get user input\n",
    "    user_input = input(\"Please describe your ideal vacation: \")\n",
    "\n",
    "    # Extract preferences\n",
    "    preferences_prompt = f\"\"\"\n",
    "Extract key travel preferences from the following user input:\n",
    "\"{user_input}\"\n",
    "\n",
    "Please provide the extracted information in this format:\n",
    "Destination:\n",
    "Activities:\n",
    "Budget:\n",
    "Duration (in days):\n",
    "\"\"\"\n",
    "    extracted_preferences = llm_call(preferences_prompt)\n",
    "    print(\"\\nExtracted Preferences:\")\n",
    "    print(extracted_preferences)\n",
    "\n",
    "    # Parse extracted preferences\n",
    "    preferences = {}\n",
    "    for line in extracted_preferences.split(\"\\n\"):\n",
    "        if \":\" in line:\n",
    "            key, value = line.split(\":\", 1)\n",
    "            preferences[key.strip()] = value.strip()\n",
    "\n",
    "    # Validate extracted preferences\n",
    "    required_keys = [\"Destination\", \"Activities\", \"Budget\", \"Duration (in days)\"]\n",
    "    if not all(key in preferences for key in required_keys):\n",
    "        print(\"\\nCould not extract all required preferences. Please try again.\")\n",
    "        return\n",
    "\n",
    "    # Fetch additional information\n",
    "    weather = weather_tool(preferences[\"Destination\"])\n",
    "    print(f\"\\nWeather in {preferences['Destination']}: {weather}\")\n",
    "\n",
    "    origin = input(\"Please enter your departure city: \")\n",
    "    flight_price = flight_price_estimator_tool(origin, preferences[\"Destination\"])\n",
    "    print(flight_price)\n",
    "\n",
    "    # Plan itinerary\n",
    "    itinerary_agent = ItineraryAgent()\n",
    "    itinerary = itinerary_agent.plan_itinerary(\n",
    "        extracted_preferences, int(preferences[\"Duration (in days)\"])\n",
    "    )\n",
    "    print(\"\\nPlanned Itinerary:\")\n",
    "    print(itinerary)\n",
    "\n",
    "    # Currency conversion\n",
    "    budget_amount = float(preferences[\"Budget\"].replace(\"$\", \"\").replace(\",\", \"\"))\n",
    "    converted_budget = currency_converter_tool(budget_amount, \"USD\", \"INR\")\n",
    "    if converted_budget:\n",
    "        print(f\"\\nBudget in INR: {converted_budget:.2f} INR\")\n",
    "    else:\n",
    "        print(\"\\nCurrency conversion not available.\")\n",
    "\n",
    "    # Generate travel summary\n",
    "    summary_prompt = f\"\"\"\n",
    "Summarize the following travel plan:\n",
    "\n",
    "Destination: {preferences['Destination']}\n",
    "Activities: {preferences['Activities']}\n",
    "Budget: {preferences['Budget']}\n",
    "Duration: {preferences['Duration (in days)']} days\n",
    "Itinerary: {itinerary}\n",
    "Weather: {weather}\n",
    "Flight Price: {flight_price}\n",
    "\n",
    "Travel Summary:\n",
    "\"\"\"\n",
    "    travel_summary = llm_call(summary_prompt, max_tokens=2048)\n",
    "    print(\"\\nTravel Summary:\")\n",
    "    print(travel_summary)"
   ]
  },
  {
   "cell_type": "code",
   "execution_count": 6,
   "metadata": {},
   "outputs": [
    {
     "name": "stdout",
     "output_type": "stream",
     "text": [
      "Welcome to the Personalized Travel Planner!\n",
      "\n"
     ]
    },
    {
     "name": "stderr",
     "output_type": "stream",
     "text": [
      "INFO:httpx:HTTP Request: POST https://api.openai.com/v1/chat/completions \"HTTP/1.1 200 OK\"\n"
     ]
    },
    {
     "name": "stdout",
     "output_type": "stream",
     "text": [
      "\n",
      "Extracted Preferences:\n",
      "Destination: Karela  \n",
      "Activities: Nature  \n",
      "Budget: $100  \n",
      "Duration (in days): 10\n",
      "\n",
      "Weather in Karela: Weather data not available.\n",
      "Estimated price from goa to Karela: $500-$1000\n"
     ]
    },
    {
     "name": "stderr",
     "output_type": "stream",
     "text": [
      "INFO:httpx:HTTP Request: POST https://api.openai.com/v1/chat/completions \"HTTP/1.1 200 OK\"\n"
     ]
    },
    {
     "name": "stdout",
     "output_type": "stream",
     "text": [
      "\n",
      "Planned Itinerary:\n",
      "**10-Day Travel Itinerary for Kerala: Nature Adventure**\n",
      "\n",
      "**Budget:** $100\n",
      "\n",
      "**Day 1: Arrival in Kochi**\n",
      "- **Morning:** Arrive at Cochin International Airport. Opt for a budget-friendly local bus or train to reach Kochi (Approx. $5).\n",
      "- **Afternoon:** Check into a budget homestay or hostel ($10/night).\n",
      "- **Evening:** Explore Fort Kochi’s charming streets, visit the Chinese Fishing Nets, and enjoy the sunset along the coast.\n",
      "\n",
      "**Day 2: Kochi to Munnar**\n",
      "- **Morning:** Take an early morning bus to Munnar (Approx. $5).\n",
      "- **Afternoon:** Check into a budget guesthouse ($10/night). \n",
      "- **Evening:** Visit the local market and try some local street food for dinner (Approx. $5).\n",
      "\n",
      "**Day 3: Munnar - Tea Plantations**\n",
      "- **Morning:** Visit the Tea Museum and take a guided tour through the tea plantations (Entry $2).\n",
      "- **Afternoon:** Enjoy a picnic lunch amidst the plantations (Pack a lunch for $3).\n",
      "- **Evening:** Hike to the nearby waterfalls (free) and enjoy nature.\n",
      "\n",
      "**Day 4: Munnar - Nature Exploration**\n",
      "- **Full Day:** Take a day trip to Eravikulam National Park (Entry $10). Enjoy trekking amidst the lush green hills and spot the Nilgiri Tahr. Carry a packed lunch ($3).\n",
      "\n",
      "**Day 5: Munnar to Thekkady**\n",
      "- **Morning:** Take a bus to Thekkady (Approx. $5).\n",
      "- **Afternoon:** Check into a budget homestay ($10/night). Visit the local spice market (free).\n",
      "- **Evening:** Enjoy a nature walk in the Periyar Wildlife Sanctuary (Entry $10).\n",
      "\n",
      "**Day 6: Thekkady - Wildlife Adventure**\n",
      "- **Full Day:** Take a morning boat ride on Periyar Lake (Approx. $7) to spot wildlife. Bring your own lunch or eat at a local eatery (Approx. $5). Spend the afternoon exploring the trails.\n",
      "\n",
      "**Day 7: Thekkady to Alleppey**\n",
      "- **Morning:** Take a bus to Alleppey (Approx. $5).\n",
      "- **Afternoon:** Check into a budget homestay ($10/night). \n",
      "- **Evening:** Explore the backwaters by renting a canoe ($5) or simply walk along the lakeside.\n",
      "\n",
      "**Day 8: Alleppey -\n",
      "\n",
      "Currency conversion not available.\n"
     ]
    },
    {
     "name": "stderr",
     "output_type": "stream",
     "text": [
      "INFO:httpx:HTTP Request: POST https://api.openai.com/v1/chat/completions \"HTTP/1.1 200 OK\"\n",
      "DEBUG:agentneo.tracing.agent_tracer:Successfully updated and committed AgentCallModel with id 4\n",
      "DEBUG:agentneo.tracing.agent_tracer:Successfully updated and committed AgentCallModel with id 3\n"
     ]
    },
    {
     "name": "stdout",
     "output_type": "stream",
     "text": [
      "\n",
      "Travel Summary:\n",
      "**Travel Summary for Kerala Nature Adventure**\n",
      "\n",
      "**Destination:** Kerala  \n",
      "**Activities:** Nature exploration  \n",
      "**Budget:** $100  \n",
      "**Duration:** 10 days  \n",
      "\n",
      "**Itinerary Overview:**\n",
      "\n",
      "- **Day 1:** Arrive in Kochi; use budget transport ($5) to reach the city. Check into a budget homestay ($10/night) and explore Fort Kochi.\n",
      "  \n",
      "- **Day 2:** Travel to Munnar via bus ($5); check into a guesthouse ($10/night) and enjoy local street food ($5).\n",
      "  \n",
      "- **Day 3:** Visit the Tea Museum and plantations ($2 entry), have a picnic lunch ($3), and hike to nearby waterfalls (free).\n",
      "\n",
      "- **Day 4:** Day trip to Eravikulam National Park ($10 entry); trek and enjoy packed lunch ($3).\n",
      "\n",
      "- **Day 5:** Bus to Thekkady ($5), check into a homestay ($10/night), visit local spice market (free), and enjoy a nature walk in Periyar Wildlife Sanctuary ($10 entry).\n",
      "\n",
      "- **Day 6:** Morning boat ride on Periyar Lake ($7) and explore trails; lunch at local eatery ($5).\n",
      "\n",
      "- **Day 7:** Bus to Alleppey ($5), check into homestay ($10/night), and explore the backwaters with a canoe rental ($5).\n",
      "\n",
      "**Total Estimated Costs:** Accommodation, transport, and activities are kept within the $100 budget, focusing on affordable options for a nature-centric adventure in Kerala.\n",
      "Tracing Completed.\n",
      "Data saved to the database and JSON file.\n",
      "\n"
     ]
    }
   ],
   "source": [
    "# Main function to run the travel agent\n",
    "def main():\n",
    "    travel_agent()\n",
    "\n",
    "# Ensure the script runs only when executed directly\n",
    "if __name__ == \"__main__\":\n",
    "    main()\n",
    "    tracer.stop()\n"
   ]
  },
  {
   "cell_type": "markdown",
   "metadata": {},
   "source": [
    "# Metrics Evaluation\n",
    "Supported Metrics\n",
    "Goal Decomposition Efficiency (goal_decomposition_efficiency)\n",
    "Goal Fulfillment Rate (goal_fulfillment_rate)\n",
    "Tool Call Correctness Rate (tool_call_correctness_rate)\n",
    "Tool Call Success Rate (tool_call_success_rate)"
   ]
  },
  {
   "cell_type": "code",
   "execution_count": 7,
   "metadata": {},
   "outputs": [],
   "source": [
    "# exe = Evaluation(session=neo_session, trace_id=tracer.trace_id)"
   ]
  },
  {
   "cell_type": "code",
   "execution_count": 8,
   "metadata": {},
   "outputs": [],
   "source": [
    "# # run a single metric\n",
    "# exe.evaluate(metric_list=['goal_decomposition_efficiency', \n",
    "#                          'goal_fulfillment_rate', \n",
    "#                          'tool_call_correctness_rate', \n",
    "#                          'tool_call_success_rate'])"
   ]
  },
  {
   "cell_type": "code",
   "execution_count": 9,
   "metadata": {},
   "outputs": [],
   "source": [
    "# #print metric result\n",
    "# metric_results = exe.get_results()\n",
    "# metric_results"
   ]
  },
  {
   "cell_type": "code",
   "execution_count": 10,
   "metadata": {},
   "outputs": [
    {
     "name": "stderr",
     "output_type": "stream",
     "text": [
      "INFO:root:Port 3000 is busy. Finding an available port...\n",
      "INFO:root:Using port 3012\n",
      "INFO:root:Dashboard process started successfully\n",
      "INFO:root:Dashboard launched successfully. Access it at: http://localhost:3012\n"
     ]
    }
   ],
   "source": [
    "neo_session.launch_dashboard()"
   ]
  },
  {
   "cell_type": "markdown",
   "metadata": {},
   "source": [
    "### get the trace data"
   ]
  },
  {
   "cell_type": "code",
   "execution_count": 11,
   "metadata": {},
   "outputs": [],
   "source": [
    "# import requests\n",
    "# import json\n",
    "\n",
    "# trace_id = tracer.trace_id \n",
    "# port = 5010 # port no of the falsk server\n",
    "# response = requests.get(f\"http://localhost:{port}/api/traces/{trace_id}\")\n",
    "\n",
    "# if response.status_code == 200:\n",
    "#     trace_data = response.json()\n",
    "#     print(json.dumps(trace_data, indent=2))\n",
    "# else:\n",
    "#     print(f\"Error: {response.status_code}\")\n",
    "#     print(response.text)"
   ]
  },
  {
   "cell_type": "code",
   "execution_count": null,
   "metadata": {},
   "outputs": [],
   "source": []
  }
 ],
 "metadata": {
  "kernelspec": {
   "display_name": "Python 3",
   "language": "python",
   "name": "python3"
  },
  "language_info": {
   "codemirror_mode": {
    "name": "ipython",
    "version": 3
   },
   "file_extension": ".py",
   "mimetype": "text/x-python",
   "name": "python",
   "nbconvert_exporter": "python",
   "pygments_lexer": "ipython3",
   "version": "3.12.2"
  }
 },
 "nbformat": 4,
 "nbformat_minor": 2
}
