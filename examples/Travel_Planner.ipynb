{
 "cells": [
  {
   "cell_type": "markdown",
   "metadata": {},
   "source": [
    "# Travel Agent Planner with AgentNeo Integration\n",
    "\n",
    "This Jupyter notebook demonstrates the integration of AgentNeo, a powerful tracing and monitoring tool, with a Travel Agent Planner system. AgentNeo provides seamless tracing capabilities for both function calls and AI model interactions, allowing for comprehensive analysis and debugging of complex systems."
   ]
  },
  {
   "cell_type": "markdown",
   "metadata": {},
   "source": [
    "\n",
    "# Setup and Imports\n",
    "First, let's import the necessary libraries and set up our environment."
   ]
  },
  {
   "cell_type": "code",
   "execution_count": 1,
   "metadata": {},
   "outputs": [],
   "source": [
    "import os\n",
    "import requests\n",
    "from dotenv import load_dotenv\n",
    "from litellm import completion\n",
    "import openai\n",
    "from openai import OpenAI"
   ]
  },
  {
   "cell_type": "code",
   "execution_count": 2,
   "metadata": {},
   "outputs": [],
   "source": [
    "# Load environment variables\n",
    "load_dotenv(\"enter your .env file path \")\n",
    "\n",
    "\n",
    "# Initialize OpenAI API\n",
    "openai.api_key = os.getenv(\"OPENAI_API_KEY\")\n",
    "\n"
   ]
  },
  {
   "cell_type": "code",
   "execution_count": 3,
   "metadata": {},
   "outputs": [
    {
     "name": "stdout",
     "output_type": "stream",
     "text": [
      "Project connected successfully\n",
      "Project 'ai_travel_agent_demo1' found.\n",
      "Tracing Started.\n"
     ]
    }
   ],
   "source": [
    "# Initialize AgentNeo Package\n",
    "import os\n",
    "os.chdir('..')\n",
    "\n",
    "from agentneo import AgentNeo, Tracer, Evaluation,launch_dashboard\n",
    "# Initialize AgentNeo session\n",
    "# Create project\n",
    "neo_session = AgentNeo(session_name=\"ai_travel_agent_session1\")\n",
    "\n",
    "project_name = \"ai_travel_agent_demo1\"\n",
    "\n",
    "try:\n",
    "    neo_session.create_project(project_name=project_name)\n",
    "    print(\"Project created successfully\")\n",
    "except:\n",
    "    neo_session.connect_project(project_name=project_name)\n",
    "    print(\"Project connected successfully\")\n",
    "# Start tracing\n",
    "\n",
    "tracer = Tracer(session=neo_session)\n",
    "tracer.start()"
   ]
  },
  {
   "cell_type": "markdown",
   "metadata": {},
   "source": [
    "# Travel Agent Tools\n",
    "Now, let's define our Travel Agent Planner Tools with AgentNeo integration."
   ]
  },
  {
   "cell_type": "code",
   "execution_count": 4,
   "metadata": {},
   "outputs": [],
   "source": [
    "@tracer.trace_llm(name=\"llm_call\")\n",
    "def llm_call(prompt, max_tokens=512, model=\"gpt-4o-mini\"):\n",
    "    client = OpenAI(api_key=os.environ[\"OPENAI_API_KEY\"])\n",
    "\n",
    "    response = client.chat.completions.create(\n",
    "        model=model,\n",
    "        messages=[{\"role\": \"user\", \"content\": prompt}],\n",
    "        max_tokens=max_tokens,\n",
    "        temperature=0.7,\n",
    "    )\n",
    "\n",
    "    return response.choices[0].message.content.strip()\n",
    "\n",
    "\n",
    "# Tools outside agents\n",
    "@tracer.trace_tool(name=\"weather_tool\")\n",
    "def weather_tool(destination):\n",
    "\n",
    "    api_key = os.environ.get(\"OPENWEATHERMAP_API_KEY\")\n",
    "    base_url = \"http://api.openweathermap.org/data/2.5/weather\"\n",
    "\n",
    "    params = {\"q\": destination, \"appid\": api_key, \"units\": \"metric\"}\n",
    "\n",
    "    try:\n",
    "        response = requests.get(base_url, params=params)\n",
    "        response.raise_for_status()\n",
    "        data = response.json()\n",
    "\n",
    "        weather_description = data[\"weather\"][0][\"description\"]\n",
    "        temperature = data[\"main\"][\"temp\"]\n",
    "\n",
    "        return f\"{weather_description.capitalize()}, {temperature:.1f}°C\"\n",
    "    except requests.RequestException:\n",
    "        return \"Weather data not available.\"\n",
    "\n",
    "\n",
    "@tracer.trace_tool(name=\"currency_converter_tool\")\n",
    "def currency_converter_tool(amount, from_currency, to_currency):\n",
    "    api_key = os.environ.get(\"EXCHANGERATE_API_KEY\")\n",
    "    base_url = f\"https://v6.exchangerate-api.com/v6/{api_key}/pair/{from_currency}/{to_currency}\"\n",
    "\n",
    "    try:\n",
    "        response = requests.get(base_url)\n",
    "        response.raise_for_status()\n",
    "        data = response.json()\n",
    "\n",
    "        if data[\"result\"] == \"success\":\n",
    "            rate = data[\"conversion_rate\"]\n",
    "            return amount * rate\n",
    "        else:\n",
    "            return None\n",
    "    except requests.RequestException:\n",
    "        return None\n",
    "\n",
    "\n",
    "@tracer.trace_tool(name=\"flight_price_estimator_tool\")\n",
    "def flight_price_estimator_tool(origin, destination):\n",
    "    # This is a mock function. In a real scenario, you'd integrate with a flight API.\n",
    "    api_key = os.environ.get(\"FLIGHT_API_KEY\")\n",
    "    # Implement actual API call here\n",
    "    return f\"Estimated price from {origin} to {destination}: $500-$1000\"\n",
    "\n",
    "\n",
    "# Agent with persona\n",
    "@tracer.trace_agent(name=\"itinerary_agent\")\n",
    "class ItineraryAgent:\n",
    "    def __init__(self, persona=\"Itinerary Agent\"):\n",
    "        self.persona = persona\n",
    "\n",
    "    def plan_itinerary(self, user_preferences, duration=3):\n",
    "        itinerary_prompt = f\"\"\"\n",
    "You are a travel expert named {self.persona}.\n",
    "Based on the following user preferences, create a {duration}-day travel itinerary.\n",
    "\n",
    "User Preferences:\n",
    "{user_preferences}\n",
    "\n",
    "Itinerary:\n",
    "\"\"\"\n",
    "        return llm_call(itinerary_prompt, max_tokens=512)\n",
    "\n",
    "\n"
   ]
  },
  {
   "cell_type": "markdown",
   "metadata": {},
   "source": [
    "\n",
    "# Running the Analysis\n",
    "Now let's create a  main function for our Travel Agent Planner which recall all tools "
   ]
  },
  {
   "cell_type": "code",
   "execution_count": 5,
   "metadata": {},
   "outputs": [],
   "source": [
    "# Main function\n",
    "\n",
    "@tracer.trace_agent(name=\"travel_agent\")\n",
    "def travel_agent():\n",
    "    print(\"Welcome to the Personalized Travel Planner!\\n\")\n",
    "\n",
    "    # Get user input\n",
    "    user_input = input(\"Please describe your ideal vacation: \")\n",
    "\n",
    "    # Extract preferences\n",
    "    preferences_prompt = f\"\"\"\n",
    "Extract key travel preferences from the following user input:\n",
    "\"{user_input}\"\n",
    "\n",
    "Please provide the extracted information in this format:\n",
    "Destination:\n",
    "Activities:\n",
    "Budget:\n",
    "Duration (in days):\n",
    "\"\"\"\n",
    "    extracted_preferences = llm_call(preferences_prompt)\n",
    "    print(\"\\nExtracted Preferences:\")\n",
    "    print(extracted_preferences)\n",
    "\n",
    "    # Parse extracted preferences\n",
    "    preferences = {}\n",
    "    for line in extracted_preferences.split(\"\\n\"):\n",
    "        if \":\" in line:\n",
    "            key, value = line.split(\":\", 1)\n",
    "            preferences[key.strip()] = value.strip()\n",
    "\n",
    "    # Validate extracted preferences\n",
    "    required_keys = [\"Destination\", \"Activities\", \"Budget\", \"Duration (in days)\"]\n",
    "    if not all(key in preferences for key in required_keys):\n",
    "        print(\"\\nCould not extract all required preferences. Please try again.\")\n",
    "        return\n",
    "\n",
    "    # Fetch additional information\n",
    "    weather = weather_tool(preferences[\"Destination\"])\n",
    "    print(f\"\\nWeather in {preferences['Destination']}: {weather}\")\n",
    "\n",
    "    origin = input(\"Please enter your departure city: \")\n",
    "    flight_price = flight_price_estimator_tool(origin, preferences[\"Destination\"])\n",
    "    print(flight_price)\n",
    "\n",
    "    # Plan itinerary\n",
    "    itinerary_agent = ItineraryAgent()\n",
    "    itinerary = itinerary_agent.plan_itinerary(\n",
    "        extracted_preferences, int(preferences[\"Duration (in days)\"])\n",
    "    )\n",
    "    print(\"\\nPlanned Itinerary:\")\n",
    "    print(itinerary)\n",
    "\n",
    "    # Currency conversion\n",
    "    budget_amount = float(preferences[\"Budget\"].replace(\"$\", \"\").replace(\",\", \"\"))\n",
    "    converted_budget = currency_converter_tool(budget_amount, \"USD\", \"INR\")\n",
    "    if converted_budget:\n",
    "        print(f\"\\nBudget in INR: {converted_budget:.2f} INR\")\n",
    "    else:\n",
    "        print(\"\\nCurrency conversion not available.\")\n",
    "\n",
    "    # Generate travel summary\n",
    "    summary_prompt = f\"\"\"\n",
    "Summarize the following travel plan:\n",
    "\n",
    "Destination: {preferences['Destination']}\n",
    "Activities: {preferences['Activities']}\n",
    "Budget: {preferences['Budget']}\n",
    "Duration: {preferences['Duration (in days)']} days\n",
    "Itinerary: {itinerary}\n",
    "Weather: {weather}\n",
    "Flight Price: {flight_price}\n",
    "\n",
    "Travel Summary:\n",
    "\"\"\"\n",
    "    travel_summary = llm_call(summary_prompt, max_tokens=2048)\n",
    "    print(\"\\nTravel Summary:\")\n",
    "    print(travel_summary)"
   ]
  },
  {
   "cell_type": "code",
   "execution_count": 6,
   "metadata": {},
   "outputs": [
    {
     "name": "stdout",
     "output_type": "stream",
     "text": [
      "Welcome to the Personalized Travel Planner!\n",
      "\n"
     ]
    },
    {
     "name": "stderr",
     "output_type": "stream",
     "text": [
      "INFO:httpx:HTTP Request: POST https://api.openai.com/v1/chat/completions \"HTTP/1.1 200 OK\"\n"
     ]
    },
    {
     "name": "stdout",
     "output_type": "stream",
     "text": [
      "\n",
      "Extracted Preferences:\n",
      "Destination: Karela  \n",
      "Activities: Nature  \n",
      "Budget: $100  \n",
      "Duration (in days): 10\n",
      "\n",
      "Weather in Karela: Weather data not available.\n",
      "Estimated price from delhi to Karela: $500-$1000\n"
     ]
    },
    {
     "name": "stderr",
     "output_type": "stream",
     "text": [
      "INFO:httpx:HTTP Request: POST https://api.openai.com/v1/chat/completions \"HTTP/1.1 200 OK\"\n"
     ]
    },
    {
     "name": "stdout",
     "output_type": "stream",
     "text": [
      "\n",
      "Planned Itinerary:\n",
      "**10-Day Itinerary for Kerala: Nature-Focused Adventure on a Budget**\n",
      "\n",
      "**Day 1: Arrival in Kochi**\n",
      "- **Morning:** Arrive at Kochi International Airport. Take a local bus or shared taxi to your accommodation (budget guesthouse).\n",
      "- **Afternoon:** Explore Fort Kochi on foot. Visit the Chinese fishing nets and St. Francis Church.\n",
      "- **Evening:** Enjoy a sunset stroll along the beach.\n",
      "\n",
      "**Day 2: Kochi to Munnar**\n",
      "- **Morning:** Take a local bus to Munnar (approximately 4 hours, $2).\n",
      "- **Afternoon:** Check into a budget accommodation. Visit the Tea Museum (entry fee $1).\n",
      "- **Evening:** Walk through the tea plantations; enjoy the scenic views and tranquility.\n",
      "\n",
      "**Day 3: Munnar Exploration**\n",
      "- **Morning:** Trek to Anamudi Peak (the highest peak in South India). Entry is free, but hire a local guide for around $5.\n",
      "- **Afternoon:** Visit the Eravikulam National Park (entry fee $5).\n",
      "- **Evening:** Enjoy a local dinner at a small eatery ($5).\n",
      "\n",
      "**Day 4: Munnar to Thekkady**\n",
      "- **Morning:** Take a local bus to Thekkady (approximately 3 hours, $2).\n",
      "- **Afternoon:** Check into your guesthouse and visit the Periyar Wildlife Sanctuary. Explore the park on foot (entry fee $5).\n",
      "- **Evening:** Attend a cultural program showcasing traditional Kerala arts (around $5).\n",
      "\n",
      "**Day 5: Thekkady Nature Walk**\n",
      "- **Morning:** Join a guided nature walk or bamboo rafting in Periyar Lake (around $10).\n",
      "- **Afternoon:** Visit a spice plantation (some offer free tours with a small purchase).\n",
      "- **Evening:** Relax and enjoy a local meal ($5).\n",
      "\n",
      "**Day 6: Thekkady to Alleppey**\n",
      "- **Morning:** Take a local bus to Alleppey (approximately 4 hours, $2).\n",
      "- **Afternoon:** Check into a budget homestay. Explore the backwaters by walking or renting a kayak ($5).\n",
      "- **Evening:** Enjoy a dinner by the backwaters ($5).\n",
      "\n",
      "**Day 7: Houseboat Experience**\n",
      "- **Full Day:** Opt for a day houseboat experience (some operators offer budget options for around $25, including meals). Enjoy the serene backwaters of Alleppey.\n",
      "\n",
      "**Day 8: Alleppey to Vark\n",
      "\n",
      "Currency conversion not available.\n"
     ]
    },
    {
     "name": "stderr",
     "output_type": "stream",
     "text": [
      "INFO:httpx:HTTP Request: POST https://api.openai.com/v1/chat/completions \"HTTP/1.1 200 OK\"\n",
      "DEBUG:agentneo.tracing.agent_tracer:Successfully updated and committed AgentCallModel with id 24\n",
      "DEBUG:agentneo.tracing.agent_tracer:Successfully updated and committed AgentCallModel with id 23\n"
     ]
    },
    {
     "name": "stdout",
     "output_type": "stream",
     "text": [
      "\n",
      "Travel Summary:\n",
      "**Travel Plan Summary for Kerala: Nature-Focused Adventure on a Budget**\n",
      "\n",
      "- **Destination:** Kerala\n",
      "- **Duration:** 10 days\n",
      "- **Budget:** $100 (excluding flight costs)\n",
      "- **Activities:** Nature exploration\n",
      "\n",
      "**Itinerary Overview:**\n",
      "\n",
      "- **Day 1:** Arrive in Kochi, explore Fort Kochi, and enjoy a beach sunset.\n",
      "- **Day 2:** Travel to Munnar by local bus, visit the Tea Museum, and enjoy tea plantation views.\n",
      "- **Day 3:** Trek Anamudi Peak, visit Eravikulam National Park, and dine locally.\n",
      "- **Day 4:** Bus to Thekkady, visit Periyar Wildlife Sanctuary, and attend a cultural program.\n",
      "- **Day 5:** Participate in a nature walk or bamboo rafting, visit a spice plantation, and enjoy local cuisine.\n",
      "- **Day 6:** Travel to Alleppey, explore backwaters, and have dinner by the water.\n",
      "- **Day 7:** Experience a budget-friendly houseboat day trip in Alleppey.\n",
      "\n",
      "- **Additional Notes:** Estimated flight cost to Kerala from Delhi ranges from $500 to $1000.\n",
      "Tracing Completed.\n",
      "Data saved to the database and JSON file.\n",
      "\n"
     ]
    }
   ],
   "source": [
    "# Main function to run the travel agent\n",
    "def main():\n",
    "    travel_agent()\n",
    "\n",
    "# Ensure the script runs only when executed directly\n",
    "if __name__ == \"__main__\":\n",
    "    main()\n",
    "    tracer.stop()\n"
   ]
  },
  {
   "cell_type": "markdown",
   "metadata": {},
   "source": [
    "# Metrics Evaluation\n",
    "Supported Metrics\n",
    "Goal Decomposition Efficiency (goal_decomposition_efficiency)\n",
    "Goal Fulfillment Rate (goal_fulfillment_rate)\n",
    "Tool Correctness Metric (tool_correctness_metric)\n",
    "Tool Call Success Rate Metric (tool_call_success_rate_metric)"
   ]
  },
  {
   "cell_type": "code",
   "execution_count": 8,
   "metadata": {},
   "outputs": [],
   "source": [
    "exe = Evaluation(session=neo_session, trace_id=1)\n",
    "\n",
    "# run a single metric\n",
    "exe.evaluate(metric_list=['tool_call_success_rate_metric'])"
   ]
  },
  {
   "cell_type": "code",
   "execution_count": 11,
   "metadata": {},
   "outputs": [
    {
     "data": {
      "text/plain": [
       "[{'metric_name': 'goal_decomposition_efficiency',\n",
       "  'score': 0.0,\n",
       "  'reason': \"No subtasks detected. The AI did not generate any coherent sub-goals or a structured plan to address the user's request for spelling numbers, which indicates a failure in goal decomposition.\",\n",
       "  'result_detail': {'metric_name': 'goal_fulfillment_rate',\n",
       "   'config': {},\n",
       "   'result': {'originalGoal': 'The user is seeking assistance with spelling out numbers in English.',\n",
       "    'subtasks': [],\n",
       "    'score': 0.0,\n",
       "    'reason': \"No subtasks detected. The AI did not generate any coherent sub-goals or a structured plan to address the user's request for spelling numbers, which indicates a failure in goal decomposition.\"}},\n",
       "  'config': {},\n",
       "  'start_time': '2024-10-22T12:39:30.357434',\n",
       "  'end_time': '2024-10-22T12:39:34.030550',\n",
       "  'duration': 3.673116},\n",
       " {'metric_name': 'goal_fulfillment_rate',\n",
       "  'score': 0.0,\n",
       "  'reason': \"The user query 'spell- 10' indicates that the user is asking for the spelling of the number 10. However, the system response provides the spelling for the number 30 instead, which is incorrect and does not fulfill the user's request. Since the response does not address the user's query at all, the goal fulfillment rate is 0.0.\",\n",
       "  'result_detail': {'metric_name': 'goal_fulfillment_rate',\n",
       "   'config': {},\n",
       "   'result': {'inputGoal': 'spell- 10',\n",
       "    'finalResponse': 'The number 30 is spelled as \"thirty.\"',\n",
       "    'score': 0.0,\n",
       "    'reason': \"The user query 'spell- 10' indicates that the user is asking for the spelling of the number 10. However, the system response provides the spelling for the number 30 instead, which is incorrect and does not fulfill the user's request. Since the response does not address the user's query at all, the goal fulfillment rate is 0.0.\"}},\n",
       "  'config': {},\n",
       "  'start_time': '2024-10-22T12:39:34.030765',\n",
       "  'end_time': '2024-10-22T12:39:35.466786',\n",
       "  'duration': 1.436021},\n",
       " {'metric_name': 'tool_correctness_metric',\n",
       "  'score': 0.0,\n",
       "  'reason': '{\"correct_calls\": 0, \"total_calls\": 0, \"intended_tool\": \"Spell Checker\", \"available_tools\": []}',\n",
       "  'result_detail': {'metric_name': 'tool_correctness',\n",
       "   'config': {},\n",
       "   'result': {'score': 0,\n",
       "    'reason': '{\"correct_calls\": 0, \"total_calls\": 0, \"intended_tool\": \"Spell Checker\", \"available_tools\": []}'}},\n",
       "  'config': {},\n",
       "  'start_time': '2024-10-22T12:39:35.466867',\n",
       "  'end_time': '2024-10-22T12:39:35.951220',\n",
       "  'duration': 0.484353},\n",
       " {'metric_name': 'tool_call_success_rate_metric',\n",
       "  'score': 0.0,\n",
       "  'reason': '{\"successful_calls\": 0, \"total_calls\": 0}',\n",
       "  'result_detail': {'metric_name': 'tool_call_success_rate',\n",
       "   'config': {},\n",
       "   'result': {'score': 0,\n",
       "    'reason': '{\"successful_calls\": 0, \"total_calls\": 0}'}},\n",
       "  'config': {},\n",
       "  'start_time': '2024-10-22T12:39:35.951380',\n",
       "  'end_time': '2024-10-22T12:39:35.951393',\n",
       "  'duration': 1.3e-05},\n",
       " {'metric_name': 'tool_call_success_rate_metric',\n",
       "  'score': 0.0,\n",
       "  'reason': '{\"successful_calls\": 0, \"total_calls\": 0}',\n",
       "  'result_detail': {'metric_name': 'tool_call_success_rate',\n",
       "   'config': {},\n",
       "   'result': {'score': 0,\n",
       "    'reason': '{\"successful_calls\": 0, \"total_calls\": 0}'}},\n",
       "  'config': {},\n",
       "  'start_time': '2024-10-22T13:22:42.430160',\n",
       "  'end_time': '2024-10-22T13:22:42.430180',\n",
       "  'duration': 2e-05}]"
      ]
     },
     "execution_count": 11,
     "metadata": {},
     "output_type": "execute_result"
    }
   ],
   "source": [
    "#print metric result\n",
    "metric_results = exe.get_results()\n",
    "metric_results"
   ]
  },
  {
   "cell_type": "code",
   "execution_count": 10,
   "metadata": {},
   "outputs": [
    {
     "name": "stderr",
     "output_type": "stream",
     "text": [
      "INFO:root:Port 3000 is busy. Finding an available port...\n",
      "INFO:root:Using port 3001\n",
      "INFO:root:Dashboard launched successfully. Access it at: http://localhost:3001\n"
     ]
    }
   ],
   "source": [
    "neo_session.launch_dashboard()"
   ]
  },
  {
   "cell_type": "code",
   "execution_count": null,
   "metadata": {},
   "outputs": [],
   "source": []
  }
 ],
 "metadata": {
  "kernelspec": {
   "display_name": "Python 3",
   "language": "python",
   "name": "python3"
  },
  "language_info": {
   "codemirror_mode": {
    "name": "ipython",
    "version": 3
   },
   "file_extension": ".py",
   "mimetype": "text/x-python",
   "name": "python",
   "nbconvert_exporter": "python",
   "pygments_lexer": "ipython3",
   "version": "3.12.2"
  }
 },
 "nbformat": 4,
 "nbformat_minor": 2
}
