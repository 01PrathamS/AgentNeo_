{
 "cells": [
  {
   "cell_type": "markdown",
   "metadata": {},
   "source": [
    "\n",
    "# CrewAI with AgentNeo Integration\n",
    "This Jupyter notebook demonstrates the integration of AgentNeo, a powerful tracing and monitoring tool, with CrewAI, a framework for orchestrating role-playing AI agents. This integration allows for comprehensive analysis and debugging of AI-powered systems."
   ]
  },
  {
   "cell_type": "markdown",
   "metadata": {},
   "source": [
    "# Setup and Imports\n",
    "First, let's import the necessary libraries and set up our environment."
   ]
  },
  {
   "cell_type": "code",
   "execution_count": 1,
   "metadata": {},
   "outputs": [],
   "source": [
    "import os\n",
    "os.chdir('../..')"
   ]
  },
  {
   "cell_type": "code",
   "execution_count": 2,
   "metadata": {},
   "outputs": [
    {
     "data": {
      "text/plain": [
       "False"
      ]
     },
     "execution_count": 2,
     "metadata": {},
     "output_type": "execute_result"
    }
   ],
   "source": [
    "from crewai import Agent, Task, Crew, Process\n",
    "from dotenv import load_dotenv\n",
    "\n",
    "from agentneo import AgentNeo, Tracer ,Evaluation, launch_dashboard\n",
    "\n",
    "# Load environment variables\n",
    "load_dotenv(\"enter your .env path\")"
   ]
  },
  {
   "cell_type": "markdown",
   "metadata": {},
   "source": [
    "\n",
    "# Initialize AgentNeo Session and Tracer\n",
    "Now, let's set up our AgentNeo session and tracer."
   ]
  },
  {
   "cell_type": "code",
   "execution_count": 3,
   "metadata": {},
   "outputs": [
    {
     "ename": "ValueError",
     "evalue": "Project 'marketing_campaign_project103' already exists.",
     "output_type": "error",
     "traceback": [
      "\u001b[0;31m---------------------------------------------------------------------------\u001b[0m",
      "\u001b[0;31mValueError\u001b[0m                                Traceback (most recent call last)",
      "Cell \u001b[0;32mIn[3], line 5\u001b[0m\n\u001b[1;32m      2\u001b[0m neo_session \u001b[38;5;241m=\u001b[39m AgentNeo(session_name\u001b[38;5;241m=\u001b[39m\u001b[38;5;124m\"\u001b[39m\u001b[38;5;124mmarketing_campaign_example103\u001b[39m\u001b[38;5;124m\"\u001b[39m)\n\u001b[1;32m      4\u001b[0m \u001b[38;5;66;03m# Connect to a Project\u001b[39;00m\n\u001b[0;32m----> 5\u001b[0m \u001b[43mneo_session\u001b[49m\u001b[38;5;241;43m.\u001b[39;49m\u001b[43mcreate_project\u001b[49m\u001b[43m(\u001b[49m\u001b[43mproject_name\u001b[49m\u001b[38;5;241;43m=\u001b[39;49m\u001b[38;5;124;43m\"\u001b[39;49m\u001b[38;5;124;43mmarketing_campaign_project103\u001b[39;49m\u001b[38;5;124;43m\"\u001b[39;49m\u001b[43m)\u001b[49m\n\u001b[1;32m      7\u001b[0m \u001b[38;5;66;03m# Create tracer\u001b[39;00m\n\u001b[1;32m      8\u001b[0m tracer \u001b[38;5;241m=\u001b[39m Tracer(session\u001b[38;5;241m=\u001b[39mneo_session)\n",
      "File \u001b[0;32m~/Desktop/AgentNeo_folder/AgentNeo/agentneo/agentneo.py:51\u001b[0m, in \u001b[0;36mAgentNeo.create_project\u001b[0;34m(self, project_name)\u001b[0m\n\u001b[1;32m     45\u001b[0m existing_project \u001b[38;5;241m=\u001b[39m (\n\u001b[1;32m     46\u001b[0m     session\u001b[38;5;241m.\u001b[39mquery(ProjectInfoModel)\n\u001b[1;32m     47\u001b[0m     \u001b[38;5;241m.\u001b[39mfilter_by(project_name\u001b[38;5;241m=\u001b[39mproject_name)\n\u001b[1;32m     48\u001b[0m     \u001b[38;5;241m.\u001b[39mfirst()\n\u001b[1;32m     49\u001b[0m )\n\u001b[1;32m     50\u001b[0m \u001b[38;5;28;01mif\u001b[39;00m existing_project:\n\u001b[0;32m---> 51\u001b[0m     \u001b[38;5;28;01mraise\u001b[39;00m \u001b[38;5;167;01mValueError\u001b[39;00m(\u001b[38;5;124mf\u001b[39m\u001b[38;5;124m\"\u001b[39m\u001b[38;5;124mProject \u001b[39m\u001b[38;5;124m'\u001b[39m\u001b[38;5;132;01m{\u001b[39;00mproject_name\u001b[38;5;132;01m}\u001b[39;00m\u001b[38;5;124m'\u001b[39m\u001b[38;5;124m already exists.\u001b[39m\u001b[38;5;124m\"\u001b[39m)\n\u001b[1;32m     53\u001b[0m \u001b[38;5;66;03m# If the project doesn't exist, create a new one\u001b[39;00m\n\u001b[1;32m     54\u001b[0m project \u001b[38;5;241m=\u001b[39m ProjectInfoModel(\n\u001b[1;32m     55\u001b[0m     project_name\u001b[38;5;241m=\u001b[39mproject_name, start_time\u001b[38;5;241m=\u001b[39mdatetime\u001b[38;5;241m.\u001b[39mnow()\n\u001b[1;32m     56\u001b[0m )\n",
      "\u001b[0;31mValueError\u001b[0m: Project 'marketing_campaign_project103' already exists."
     ]
    }
   ],
   "source": [
    "# Initialize AgentNeo Session and Tracer\n",
    "neo_session = AgentNeo(session_name=\"marketing_campaign_example103\")\n",
    "\n",
    "# Connect to a Project\n",
    "neo_session.create_project(project_name=\"marketing_campaign_project103\")\n",
    "\n",
    "# Create tracer\n",
    "tracer = Tracer(session=neo_session)\n",
    "\n",
    "tracer.start()\n"
   ]
  },
  {
   "cell_type": "markdown",
   "metadata": {},
   "source": [
    "\n",
    "# Define Helper Functions\n",
    "Let's define some helper functions for our AI tools, using AgentNeo's tracing capabilities."
   ]
  },
  {
   "cell_type": "code",
   "execution_count": 5,
   "metadata": {},
   "outputs": [],
   "source": [
    "from langchain_community.tools import TavilySearchResults\n",
    "\n",
    "seo_tool = tracer.wrap_langchain_tool(TavilySearchResults())"
   ]
  },
  {
   "cell_type": "markdown",
   "metadata": {},
   "source": [
    "# Define Agents\n",
    "Now, let's create our AI agents using CrewAI."
   ]
  },
  {
   "cell_type": "code",
   "execution_count": 6,
   "metadata": {},
   "outputs": [
    {
     "name": "stderr",
     "output_type": "stream",
     "text": [
      "DEBUG:agentneo.tracing.agent_tracer:Successfully updated and committed AgentCallModel with id 16\n",
      "DEBUG:agentneo.tracing.agent_tracer:Successfully updated and committed AgentCallModel with id 17\n"
     ]
    }
   ],
   "source": [
    "# Define Agents\n",
    "@tracer.trace_agent(\"strategist\")\n",
    "def create_strategist():\n",
    "    return Agent(\n",
    "        role='Marketing Strategist',\n",
    "        goal='Develop a high-impact marketing campaign for a new AI product',\n",
    "        backstory=\"\"\"You are a seasoned marketing strategist at a leading tech company.\n",
    "        You excel at creating data-driven campaigns that resonate with target audiences.\"\"\",\n",
    "        verbose=True,\n",
    "        allow_delegation=False,\n",
    "        tools=[seo_tool],\n",
    "    )\n",
    "\n",
    "@tracer.trace_agent(\"designer\")\n",
    "def create_designer():\n",
    "    return Agent(\n",
    "        role='Creative Director',\n",
    "        goal='Design visually appealing assets for a marketing campaign',\n",
    "        backstory=\"\"\"You are a Creative Director with a flair for developing innovative designs.\n",
    "        You translate marketing concepts into visual masterpieces.\"\"\",\n",
    "        verbose=True,\n",
    "        allow_delegation=True,\n",
    "    )\n",
    "\n",
    "strategist = create_strategist()\n",
    "designer = create_designer()\n"
   ]
  },
  {
   "cell_type": "markdown",
   "metadata": {},
   "source": [
    "# Define Tasks\n",
    "Let's create tasks for our agents."
   ]
  },
  {
   "cell_type": "code",
   "execution_count": 7,
   "metadata": {},
   "outputs": [],
   "source": [
    "# Define Tasks\n",
    "task1 = Task(\n",
    "  description=\"\"\"Develop a comprehensive marketing strategy for launching a new AI product.\n",
    "  Consider SEO, target demographics, and competition analysis.\"\"\",\n",
    "  expected_output=\"Full marketing strategy document\",\n",
    "  agent=strategist\n",
    ")\n",
    "\n",
    "task2 = Task(\n",
    "  description=\"\"\"Create design assets (e.g., social media banners, infographics) based on the marketing strategy.\n",
    "  Ensure consistency with the product's brand identity.\"\"\",\n",
    "  expected_output=\"Designs in PNG format\",\n",
    "  agent=designer\n",
    ")\n"
   ]
  },
  {
   "cell_type": "markdown",
   "metadata": {},
   "source": [
    "\n",
    "# Create and Execute Crew\n",
    "Now, let's create our crew and execute the tasks."
   ]
  },
  {
   "cell_type": "code",
   "execution_count": 1,
   "metadata": {},
   "outputs": [
    {
     "ename": "NameError",
     "evalue": "name 'Crew' is not defined",
     "output_type": "error",
     "traceback": [
      "\u001b[0;31m---------------------------------------------------------------------------\u001b[0m",
      "\u001b[0;31mNameError\u001b[0m                                 Traceback (most recent call last)",
      "Cell \u001b[0;32mIn[1], line 2\u001b[0m\n\u001b[1;32m      1\u001b[0m \u001b[38;5;66;03m# Create and Execute Crew\u001b[39;00m\n\u001b[0;32m----> 2\u001b[0m crew \u001b[38;5;241m=\u001b[39m \u001b[43mCrew\u001b[49m(\n\u001b[1;32m      3\u001b[0m   agents\u001b[38;5;241m=\u001b[39m[strategist, designer],\n\u001b[1;32m      4\u001b[0m   tasks\u001b[38;5;241m=\u001b[39m[task1, task2],\n\u001b[1;32m      5\u001b[0m   process\u001b[38;5;241m=\u001b[39mProcess\u001b[38;5;241m.\u001b[39msequential,\n\u001b[1;32m      6\u001b[0m   verbose\u001b[38;5;241m=\u001b[39m\u001b[38;5;28;01mTrue\u001b[39;00m,\n\u001b[1;32m      7\u001b[0m )\n\u001b[1;32m      9\u001b[0m \u001b[38;5;66;03m# Get your crew to work!\u001b[39;00m\n\u001b[1;32m     10\u001b[0m result \u001b[38;5;241m=\u001b[39m crew\u001b[38;5;241m.\u001b[39mkickoff()\n",
      "\u001b[0;31mNameError\u001b[0m: name 'Crew' is not defined"
     ]
    }
   ],
   "source": [
    "# Create and Execute Crew\n",
    "crew = Crew(\n",
    "  agents=[strategist, designer],\n",
    "  tasks=[task1, task2],\n",
    "  process=Process.sequential,\n",
    "  verbose=True,\n",
    ")\n",
    "\n",
    "# Get your crew to work!\n",
    "result = crew.kickoff()\n",
    "\n",
    "print(result)\n",
    "\n",
    "tracer.stop()"
   ]
  },
  {
   "cell_type": "markdown",
   "metadata": {},
   "source": [
    "# Metrics Evaluation"
   ]
  },
  {
   "cell_type": "code",
   "execution_count": 8,
   "metadata": {},
   "outputs": [],
   "source": [
    "from agentneo import Evaluation\n",
    "exe = Evaluation(session=neo_session, trace_id=1)\n",
    "\n",
    "# run a single metric\n",
    "exe.evaluate(metric_list=['tool_call_success_rate'])\n"
   ]
  },
  {
   "cell_type": "code",
   "execution_count": null,
   "metadata": {},
   "outputs": [],
   "source": [
    "#print metric result\n",
    "metric_results = exe.get_results()\n",
    "print(metric_results)"
   ]
  },
  {
   "cell_type": "code",
   "execution_count": null,
   "metadata": {},
   "outputs": [],
   "source": [
    "neo_session.launch_dashboard(port=3000)"
   ]
  },
  {
   "cell_type": "code",
   "execution_count": null,
   "metadata": {},
   "outputs": [],
   "source": []
  }
 ],
 "metadata": {
  "kernelspec": {
   "display_name": "Python 3",
   "language": "python",
   "name": "python3"
  },
  "language_info": {
   "codemirror_mode": {
    "name": "ipython",
    "version": 3
   },
   "file_extension": ".py",
   "mimetype": "text/x-python",
   "name": "python",
   "nbconvert_exporter": "python",
   "pygments_lexer": "ipython3",
   "version": "3.12.2"
  }
 },
 "nbformat": 4,
 "nbformat_minor": 2
}
