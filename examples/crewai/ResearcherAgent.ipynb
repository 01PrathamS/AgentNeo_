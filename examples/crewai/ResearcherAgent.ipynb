{
 "cells": [
  {
   "cell_type": "markdown",
   "metadata": {},
   "source": [
    "# CrewAI with AgentNeo Integration\n",
    "\n",
    "This Jupyter notebook demonstrates the integration of AgentNeo, a powerful tracing and monitoring tool, with CrewAI, a framework for orchestrating role-playing AI agents. This integration allows for comprehensive analysis and debugging of AI-powered systems."
   ]
  },
  {
   "cell_type": "markdown",
   "metadata": {},
   "source": [
    "## Setup and Imports\n",
    "\n",
    "First, let's import the necessary libraries and set up our environment."
   ]
  },
  {
   "cell_type": "code",
   "execution_count": null,
   "metadata": {},
   "outputs": [],
   "source": [
    "import os\n",
    "import sys\n",
    "from crewai import Agent, Task, Crew, Process\n",
    "from langchain_openai import ChatOpenAI\n",
    "from dotenv import load_dotenv\n",
    "\n",
    "from agentneo import AgentNeo, Tracer, launch_dashboard\n",
    "\n",
    "# Load environment variables\n",
    "load_dotenv()"
   ]
  },
  {
   "cell_type": "markdown",
   "metadata": {},
   "source": [
    "## Initialize AgentNeo Session and Tracer\n",
    "\n",
    "Now, let's set up our AgentNeo session and tracer."
   ]
  },
  {
   "cell_type": "code",
   "execution_count": null,
   "metadata": {},
   "outputs": [],
   "source": [
    "# Create a session\n",
    "neo_session = AgentNeo(session_name=\"crewai_example\")\n",
    "\n",
    "# Connect to a Project\n",
    "neo_session.connect_project(project_name=\"crewai_example_project\")\n",
    "\n",
    "# Create tracer\n",
    "tracer = Tracer(session=neo_session)\n",
    "\n",
    "tracer.start()"
   ]
  },
  {
   "cell_type": "markdown",
   "metadata": {},
   "source": [
    "## Define Helper Functions\n",
    "\n",
    "Let's define some helper functions for our AI tools, using AgentNeo's tracing capabilities."
   ]
  },
  {
   "cell_type": "code",
   "execution_count": null,
   "metadata": {},
   "outputs": [],
   "source": [
    "@tracer.trace_llm(\"OpenAI_LLM\")\n",
    "def get_llm():\n",
    "    return ChatOpenAI(model_name=\"gpt-4o-mini\", temperature=0, streaming=False)\n",
    "\n",
    "@tracer.trace_tool(\"TavilySearchResults\")\n",
    "def get_search_tool():\n",
    "    from langchain_community.tools import TavilySearchResults\n",
    "    return TavilySearchResults()\n",
    "\n",
    "# search_tool = get_search_tool()\n",
    "llm = get_llm()"
   ]
  },
  {
   "cell_type": "markdown",
   "metadata": {},
   "source": [
    "## Define Agents\n",
    "\n",
    "Now, let's create our AI agents using CrewAI."
   ]
  },
  {
   "cell_type": "code",
   "execution_count": null,
   "metadata": {},
   "outputs": [],
   "source": [
    "researcher = Agent(\n",
    "  role='Senior Research Analyst',\n",
    "  goal='Uncover cutting-edge developments in AI and data science',\n",
    "  backstory=\"\"\"You work at a leading tech think tank.\n",
    "  Your expertise lies in identifying emerging trends.\n",
    "  You have a knack for dissecting complex data and presenting actionable insights.\"\"\",\n",
    "  verbose=True,\n",
    "  allow_delegation=False,\n",
    "  tools=[search_tool()],\n",
    "  llm=llm\n",
    ")\n",
    "\n",
    "writer = Agent(\n",
    "  role='Tech Content Strategist',\n",
    "  goal='Craft compelling content on tech advancements',\n",
    "  backstory=\"\"\"You are a renowned Content Strategist, known for your insightful and engaging articles.\n",
    "  You transform complex concepts into compelling narratives.\"\"\",\n",
    "  verbose=True,\n",
    "  allow_delegation=True,\n",
    "  llm=llm\n",
    ")"
   ]
  },
  {
   "cell_type": "markdown",
   "metadata": {},
   "source": [
    "## Define Tasks\n",
    "\n",
    "Let's create tasks for our agents."
   ]
  },
  {
   "cell_type": "code",
   "execution_count": null,
   "metadata": {},
   "outputs": [],
   "source": [
    "task1 = Task(\n",
    "  description=\"\"\"Conduct a comprehensive analysis of the latest advancements in AI in 2024.\n",
    "  Identify key trends, breakthrough technologies, and potential industry impacts.\"\"\",\n",
    "  expected_output=\"Full analysis report in bullet points\",\n",
    "  agent=researcher\n",
    ")\n",
    "\n",
    "task2 = Task(\n",
    "  description=\"\"\"Using the insights provided, develop an engaging blog\n",
    "  post that highlights the most significant AI advancements.\n",
    "  Your post should be informative yet accessible, catering to a tech-savvy audience.\n",
    "  Make it sound cool, avoid complex words so it doesn't sound like AI.\"\"\",\n",
    "  expected_output=\"Full blog post of at least 4 paragraphs\",\n",
    "  agent=writer\n",
    ")"
   ]
  },
  {
   "cell_type": "markdown",
   "metadata": {},
   "source": [
    "## Create and Execute Crew\n",
    "\n",
    "Now, let's create our crew and execute the tasks."
   ]
  },
  {
   "cell_type": "code",
   "execution_count": null,
   "metadata": {},
   "outputs": [],
   "source": [
    "crew = Crew(\n",
    "  agents=[researcher, writer],\n",
    "  tasks=[task1, task2],\n",
    "  process=Process.sequential,\n",
    "  verbose=True,\n",
    ")\n",
    "\n",
    "# Get your crew to work!\n",
    "result = crew.kickoff()\n",
    "\n",
    "print(result)\n",
    "\n",
    "tracer.stop()"
   ]
  },
  {
   "cell_type": "markdown",
   "metadata": {},
   "source": [
    "## Stop Tracing and Launch Dashboard\n",
    "\n",
    "Finally, let's stop the tracer and launch the AgentNeo dashboard to analyze the results."
   ]
  },
  {
   "cell_type": "code",
   "execution_count": null,
   "metadata": {},
   "outputs": [],
   "source": [
    "launch_dashboard()"
   ]
  },
  {
   "cell_type": "markdown",
   "metadata": {},
   "source": [
    "This notebook demonstrates how to integrate AgentNeo's tracing capabilities with CrewAI, allowing for detailed analysis and monitoring of AI agent interactions and task execution. The AgentNeo dashboard provides valuable insights into the performance and behavior of your AI system."
   ]
  }
 ],
 "metadata": {
  "language_info": {
   "name": "python"
  }
 },
 "nbformat": 4,
 "nbformat_minor": 2
}
