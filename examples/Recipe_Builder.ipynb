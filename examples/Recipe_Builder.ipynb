{
 "cells": [
  {
   "cell_type": "markdown",
   "metadata": {},
   "source": [
    "# Langgraph with AgentNeo Integration\n",
    " This Jupyter notebook demonstrates the integration of AgentNeo, a powerful tracing and monitoring tool, with Langgraph, a graph-based approach to managing language models with an agent-based system to enhance the automation and decision-making capabilities of your application. This integration allows for comprehensive analysis and debugging of AI-powered systems."
   ]
  },
  {
   "cell_type": "markdown",
   "metadata": {},
   "source": [
    " # Setup and Imports\n",
    "First, let's import the necessary libraries and set up our environment."
   ]
  },
  {
   "cell_type": "code",
   "execution_count": 1,
   "metadata": {},
   "outputs": [],
   "source": [
    "%%capture --no-stderr\n",
    "%pip install -U langchain langchain_openai langsmith pandas langchain_experimental matplotlib langgraph langchain_core"
   ]
  },
  {
   "cell_type": "code",
   "execution_count": 2,
   "metadata": {},
   "outputs": [],
   "source": [
    "\n",
    "import os\n",
    "import uuid\n",
    "from dotenv import load_dotenv\n",
    "from typing import List, Literal, Annotated\n",
    "from typing_extensions import TypedDict\n",
    "import openai\n",
    "\n",
    "from langchain_core.messages import (\n",
    "    SystemMessage, \n",
    "    HumanMessage, \n",
    "    AIMessage, \n",
    "    ToolMessage\n",
    ")\n",
    "from langchain_openai import ChatOpenAI\n",
    "from pydantic import BaseModel\n",
    "\n",
    "from langgraph.graph import StateGraph, START, END\n",
    "from langgraph.checkpoint.memory import MemorySaver\n",
    "from langgraph.graph.message import add_messages\n",
    "\n",
    "\n",
    "# Load environment variables from .env file\n",
    "load_dotenv()\n",
    "\n",
    "# Initialize OpenAI API using environment variables\n",
    "openai.api_key = os.getenv(\"OPENAI_API_KEY\")\n"
   ]
  },
  {
   "cell_type": "markdown",
   "metadata": {},
   "source": [
    "\n",
    " # Initialize AgentNeo Session and Tracer\n",
    " Now, let's set up our AgentNeo session and tracer.\n",
    "\n"
   ]
  },
  {
   "cell_type": "code",
   "execution_count": 3,
   "metadata": {},
   "outputs": [
    {
     "name": "stderr",
     "output_type": "stream",
     "text": [
      "INFO:httpx:HTTP Request: GET https://raw.githubusercontent.com/BerriAI/litellm/main/model_prices_and_context_window.json \"HTTP/1.1 200 OK\"\n"
     ]
    },
    {
     "name": "stdout",
     "output_type": "stream",
     "text": [
      "Project 'Recipe_Builder' found.\n",
      "Tracing Started.\n"
     ]
    }
   ],
   "source": [
    "from agentneo import AgentNeo, Tracer, Execution\n",
    "\n",
    "\n",
    "# Initialize AgentNeo session\n",
    "neo_session = AgentNeo(session_name=\"recipe_builder_assistant\")\n",
    "try:\n",
    "    neo_session.create_project(project_name=\"Recipe_Builder\")\n",
    "except:\n",
    "    neo_session.connect_project(project_name=\"Recipe_Builder\")\n",
    "\n",
    "# Create tracer\n",
    "tracer = Tracer(session=neo_session)\n",
    "tracer.start()"
   ]
  },
  {
   "cell_type": "markdown",
   "metadata": {},
   "source": [
    "\n",
    " # Define Agents and Tools\n",
    "Now, let's create our AI tools using langgraph."
   ]
  },
  {
   "cell_type": "code",
   "execution_count": 4,
   "metadata": {},
   "outputs": [],
   "source": [
    "@tracer.trace_agent(name=\"RecipeInstructions\")\n",
    "class RecipeInstructions(BaseModel):\n",
    "    \"\"\"Instructions for creating a recipe.\"\"\"\n",
    "    dish_name: str\n",
    "    servings: int\n",
    "    dietary_restrictions: List[str]\n",
    "    cooking_time: str\n",
    "    difficulty_level: str\n",
    "    ingredients: List[str]\n",
    "    special_equipment: List[str]\n",
    "\n",
    "@tracer.trace_agent(name=\"RecipeBuilder\")\n",
    "class RecipeBuilder:\n",
    "    def __init__(self):\n",
    "        self.template = \"\"\"You are a helpful recipe building assistant. Your job is to help users create and customize recipes.\n",
    "\n",
    "You should gather the following information:\n",
    "- Name of the dish they want to make\n",
    "- Number of servings needed\n",
    "- Any dietary restrictions or preferences\n",
    "- Desired cooking time\n",
    "- Cooking skill level\n",
    "- Available ingredients or preferred ingredients\n",
    "- Available cooking equipment\n",
    "\n",
    "If any information is missing or unclear, ask for clarification. Once you have all the necessary information, call the relevant tool to generate the recipe.\n",
    "\n",
    "Remember to:\n",
    "- Be specific about ingredient quantities\n",
    "- Consider dietary restrictions carefully\n",
    "- Suggest alternatives for uncommon ingredients\n",
    "- Provide clear, step-by-step instructions\"\"\"\n",
    "\n",
    "        self.llm = ChatOpenAI(temperature=0.7)\n",
    "        self.llm_with_tool = self.llm.bind_tools([RecipeInstructions])\n",
    "\n",
    "    @tracer.trace_tool(name=\"get_messages_info\")\n",
    "    def get_messages_info(self, messages):\n",
    "        return [SystemMessage(content=self.template)] + messages\n",
    "\n",
    "    @tracer.trace_tool(name=\"info_chain\")\n",
    "    def info_chain(self, state):\n",
    "        messages = self.get_messages_info(state[\"messages\"])\n",
    "        response = self.llm_with_tool.invoke(messages)\n",
    "        return {\"messages\": [response]}\n",
    "\n",
    "    @tracer.trace_tool(name=\"get_recipe_messages\")\n",
    "    def get_recipe_messages(self, messages: list):\n",
    "        tool_call = None\n",
    "        other_msgs = []\n",
    "        for m in messages:\n",
    "            if isinstance(m, AIMessage) and m.tool_calls:\n",
    "                tool_call = m.tool_calls[0][\"args\"]\n",
    "            elif isinstance(m, ToolMessage):\n",
    "                continue\n",
    "            elif tool_call is not None:\n",
    "                other_msgs.append(m)\n",
    "        \n",
    "        recipe_system = \"\"\"Based on the following requirements, create a detailed recipe with:\n",
    "1. List of ingredients with quantities\n",
    "2. Required equipment\n",
    "3. Step-by-step preparation instructions\n",
    "4. Cooking tips and timing\n",
    "5. Serving suggestions\n",
    "6. Storage instructions if applicable\n",
    "\n",
    "Recipe Requirements:\n",
    "{reqs}\"\"\"\n",
    "        return [SystemMessage(content=recipe_system.format(reqs=tool_call))] + other_msgs\n",
    "\n",
    "    @tracer.trace_tool(name=\"recipe_gen_chain\")\n",
    "    def recipe_gen_chain(self, state):\n",
    "        messages = self.get_recipe_messages(state[\"messages\"])\n",
    "        response = self.llm.invoke(messages)\n",
    "        return {\"messages\": [response]}"
   ]
  },
  {
   "cell_type": "code",
   "execution_count": 5,
   "metadata": {},
   "outputs": [],
   "source": [
    "@tracer.trace_agent(name=\"NutritionAnalyzer\")\n",
    "class NutritionAnalyzer:\n",
    "    def __init__(self):\n",
    "        self.template = \"\"\"You are a nutrition analysis assistant. Your job is to analyze the nutritional content of recipes.\n",
    "\n",
    "Given a recipe, you should provide:\n",
    "1. Total calories per serving\n",
    "2. Macronutrient breakdown (protein, carbs, fats)\n",
    "3. Key vitamins and minerals\n",
    "4. Potential allergens\n",
    "5. Suggestions for making the recipe healthier (if applicable)\n",
    "\n",
    "Be as accurate as possible with your estimations. If you're unsure about any information, state that it's an approximation.\"\"\"\n",
    "\n",
    "        self.llm = ChatOpenAI(temperature=0.3)\n",
    "\n",
    "    @tracer.trace_tool(name=\"get_nutrition_messages\")\n",
    "    def get_nutrition_messages(self, messages):\n",
    "        recipe = None\n",
    "        for m in messages:\n",
    "            if isinstance(m, AIMessage) and not m.tool_calls:\n",
    "                recipe = m.content\n",
    "                break\n",
    "        \n",
    "        if recipe is None:\n",
    "            return [SystemMessage(content=\"No recipe found to analyze.\")]\n",
    "        \n",
    "        return [\n",
    "            SystemMessage(content=self.template),\n",
    "            HumanMessage(content=f\"Please analyze the nutritional content of this recipe:\\n\\n{recipe}\")\n",
    "        ]\n",
    "\n",
    "    @tracer.trace_tool(name=\"nutrition_analysis_chain\")\n",
    "    def nutrition_analysis_chain(self, state):\n",
    "        messages = self.get_nutrition_messages(state[\"messages\"])\n",
    "        response = self.llm.invoke(messages)\n",
    "        return {\"messages\": [response]}"
   ]
  },
  {
   "cell_type": "code",
   "execution_count": 6,
   "metadata": {},
   "outputs": [],
   "source": [
    "@tracer.trace_agent(name=\"CookingTipsAgent\")\n",
    "class CookingTipsAgent:\n",
    "    def __init__(self):\n",
    "        self.template = \"\"\"You are a cooking tips and techniques expert. Your job is to provide helpful advice and tips for the given recipe.\n",
    "\n",
    "Given a recipe, you should provide:\n",
    "1. General cooking techniques relevant to the recipe\n",
    "2. Tips for ingredient preparation\n",
    "3. Suggestions for enhancing flavors\n",
    "4. Common mistakes to avoid\n",
    "5. Time-saving tricks (if applicable)\n",
    "6. Plating and presentation ideas\n",
    "\n",
    "Ensure your tips are specific to the recipe and helpful for cooks of all skill levels.\"\"\"\n",
    "\n",
    "        self.llm = ChatOpenAI(temperature=0.5)\n",
    "\n",
    "    @tracer.trace_tool(name=\"get_cooking_tips_messages\")\n",
    "    def get_cooking_tips_messages(self, messages):\n",
    "        recipe = None\n",
    "        for m in messages:\n",
    "            if isinstance(m, AIMessage) and not m.tool_calls:\n",
    "                recipe = m.content\n",
    "                break\n",
    "        \n",
    "        if recipe is None:\n",
    "            return [SystemMessage(content=\"No recipe found to provide tips for.\")]\n",
    "        \n",
    "        return [\n",
    "            SystemMessage(content=self.template),\n",
    "            HumanMessage(content=f\"Please provide cooking tips and techniques for this recipe:\\n\\n{recipe}\")\n",
    "        ]\n",
    "\n",
    "    @tracer.trace_tool(name=\"cooking_tips_chain\")\n",
    "    def cooking_tips_chain(self, state):\n",
    "        messages = self.get_cooking_tips_messages(state[\"messages\"])\n",
    "        response = self.llm.invoke(messages)\n",
    "        return {\"messages\": [response]}"
   ]
  },
  {
   "cell_type": "markdown",
   "metadata": {},
   "source": [
    "# Managing state graphs, saving memory, handling messages, and typing annotations."
   ]
  },
  {
   "cell_type": "code",
   "execution_count": 7,
   "metadata": {},
   "outputs": [],
   "source": [
    "# State management\n",
    "\n",
    "@tracer.trace_tool(name=\"get_state\")\n",
    "def get_state(state):\n",
    "    messages = state[\"messages\"]\n",
    "    if isinstance(messages[-1], AIMessage) and messages[-1].tool_calls:\n",
    "        return \"add_tool_message\"\n",
    "    elif isinstance(messages[-1], AIMessage) and not messages[-1].tool_calls:\n",
    "        if any(\"nutrition\" in m.content.lower() for m in messages[-3:]):\n",
    "            return \"cooking_tips\"\n",
    "        return \"nutrition_analysis\"\n",
    "    elif not isinstance(messages[-1], HumanMessage):\n",
    "        return END\n",
    "    return \"info\"\n",
    "\n",
    "@tracer.trace_agent(name=\"State\")\n",
    "class State(TypedDict):\n",
    "    messages: Annotated[list, add_messages]\n",
    "\n",
    "# Initialize workflow\n",
    "memory = MemorySaver()\n",
    "workflow = StateGraph(State)\n",
    "\n",
    "# Initialize agents\n",
    "recipe_builder = RecipeBuilder()\n",
    "nutrition_analyzer = NutritionAnalyzer()\n",
    "cooking_tips_agent = CookingTipsAgent()\n",
    "\n",
    "# Add nodes to workflow\n",
    "workflow.add_node(\"info\", recipe_builder.info_chain)\n",
    "workflow.add_node(\"recipe\", recipe_builder.recipe_gen_chain)\n",
    "workflow.add_node(\"nutrition_analysis\", nutrition_analyzer.nutrition_analysis_chain)\n",
    "workflow.add_node(\"cooking_tips\", cooking_tips_agent.cooking_tips_chain)\n",
    "\n",
    "@workflow.add_node\n",
    "def add_tool_message(state: State):\n",
    "    return {\n",
    "        \"messages\": [\n",
    "            ToolMessage(\n",
    "                content=\"Recipe generated!\",\n",
    "                tool_call_id=state[\"messages\"][-1].tool_calls[0][\"id\"],\n",
    "            )\n",
    "        ]\n",
    "    }\n",
    "\n",
    "# Add edges to workflow\n",
    "workflow.add_conditional_edges(\"info\", get_state, [\"add_tool_message\", \"info\", \"nutrition_analysis\", \"cooking_tips\", END])\n",
    "workflow.add_edge(\"add_tool_message\", \"recipe\")\n",
    "workflow.add_edge(\"recipe\", \"nutrition_analysis\")\n",
    "workflow.add_edge(\"nutrition_analysis\", \"cooking_tips\")\n",
    "workflow.add_edge(\"cooking_tips\", END)\n",
    "workflow.add_edge(START, \"info\")\n",
    "\n",
    "# Compile graph\n",
    "graph = workflow.compile(checkpointer=memory)"
   ]
  },
  {
   "cell_type": "markdown",
   "metadata": {},
   "source": [
    "# Displaying a PNG image of a graph generated from a LangGraph instance using Mermaid visualization"
   ]
  },
  {
   "cell_type": "code",
   "execution_count": 8,
   "metadata": {},
   "outputs": [
    {
     "data": {
      "image/jpeg": "[encoded data removed]",
      "text/plain": [
       "<IPython.core.display.Image object>"
      ]
     },
     "metadata": {},
     "output_type": "display_data"
    }
   ],
   "source": [
    "# %% \n",
    "from IPython.display import Image, display\n",
    "\n",
    "display(Image(graph.get_graph().draw_mermaid_png()))"
   ]
  },
  {
   "cell_type": "code",
   "execution_count": 9,
   "metadata": {},
   "outputs": [],
   "source": [
    "# Main interaction loop\n",
    "def run_interaction():\n",
    "    cached_human_responses = [\n",
    "        \"I want to make chocolate chip cookies\",\n",
    "        \"6 servings, no nuts, beginner friendly, 30 minutes cooking time\",\n",
    "        \"I have basic baking equipment and ingredients\",\n",
    "        \"Can you analyze the nutritional content of this recipe?\",\n",
    "        \"Any cooking tips for making these cookies?\",\n",
    "        \"q\"\n",
    "    ]\n",
    "    cached_response_index = 0\n",
    "    config = {\"configurable\": {\"thread_id\": str(uuid.uuid4())}}\n",
    "\n",
    "    while True:\n",
    "        try:\n",
    "            user = input(\"User (q/Q to quit): \")\n",
    "        except:\n",
    "            user = cached_human_responses[cached_response_index]\n",
    "            cached_response_index += 1\n",
    "            \n",
    "        print(f\"User (q/Q to quit): {user}\")\n",
    "        \n",
    "        if user in {\"q\", \"Q\"}:\n",
    "            print(\"AI: Thank you for using the Recipe Builder, Nutrition Analyzer, and Cooking Tips Assistant! Happy cooking!\")\n",
    "            break\n",
    "            \n",
    "        output = None\n",
    "        for output in graph.stream(\n",
    "            {\"messages\": [HumanMessage(content=user)]}, \n",
    "            config=config, \n",
    "            stream_mode=\"updates\"\n",
    "        ):\n",
    "            last_message = next(iter(output.values()))[\"messages\"][-1]\n",
    "            last_message.pretty_print()\n",
    "\n",
    "        if output and \"cooking_tips\" in output:\n",
    "            print(\"Recipe, nutrition analysis, and cooking tips completed! Let me know if you need any modifications or have questions!\")\n"
   ]
  },
  {
   "cell_type": "markdown",
   "metadata": {},
   "source": [
    "# Metrics Evaluation System"
   ]
  },
  {
   "cell_type": "code",
   "execution_count": 10,
   "metadata": {},
   "outputs": [],
   "source": [
    "\n",
    "# Metrics Evaluation System\n",
    "def execute_metrics(neo_session, trace_id):\n",
    "    \"\"\"Execute and return metrics analysis.\"\"\"\n",
    "    exe = Execution(session=neo_session, trace_id=trace_id)\n",
    "    exe.execute(metric_list=[\n",
    "        'goal_decomposition_efficiency',\n",
    "        'goal_fulfillment_rate',\n",
    "        'tool_call_success_rate_metric'\n",
    "    ])\n",
    "    return exe.get_results()\n",
    "\n",
    "def print_metrics_results(metric_results):\n",
    "    \"\"\"Print the metrics results in a formatted way.\"\"\"\n",
    "    print(\"\\nMetrics Results:\")\n",
    "    print(metric_results)\n",
    "\n",
    "def launch_metrics_dashboard(neo_session):\n",
    "    \"\"\"Launch the AgentNeo metrics dashboard.\"\"\"\n",
    "    neo_session.launch_dashboard()"
   ]
  },
  {
   "cell_type": "code",
   "execution_count": 11,
   "metadata": {},
   "outputs": [
    {
     "name": "stdout",
     "output_type": "stream",
     "text": [
      "User (q/Q to quit): I want to make panner pizza for 4 members\n"
     ]
    },
    {
     "name": "stderr",
     "output_type": "stream",
     "text": [
      "INFO:httpx:HTTP Request: POST https://api.openai.com/v1/chat/completions \"HTTP/1.1 200 OK\"\n"
     ]
    },
    {
     "name": "stdout",
     "output_type": "stream",
     "text": [
      "==================================\u001b[1m Ai Message \u001b[0m==================================\n",
      "\n",
      "Great choice! I can help you with that. Could you please provide me with the following information:\n",
      "1. Any dietary restrictions or preferences?\n",
      "2. Desired cooking time?\n",
      "3. Cooking skill level?\n",
      "4. Do you have any available ingredients or preferred ingredients?\n",
      "5. Do you have any available cooking equipment?\n"
     ]
    },
    {
     "name": "stderr",
     "output_type": "stream",
     "text": [
      "INFO:httpx:HTTP Request: POST https://api.openai.com/v1/chat/completions \"HTTP/1.1 200 OK\"\n"
     ]
    },
    {
     "name": "stdout",
     "output_type": "stream",
     "text": [
      "==================================\u001b[1m Ai Message \u001b[0m==================================\n",
      "\n",
      "To analyze the nutritional content of a recipe, I don't need specific details like cooking time, skill level, or equipment. However, it would be helpful to know if there are any dietary restrictions or preferences, as well as any key ingredients in the recipe. Once you provide me with the recipe and any additional information, I can proceed with the analysis.\n"
     ]
    },
    {
     "name": "stderr",
     "output_type": "stream",
     "text": [
      "INFO:httpx:HTTP Request: POST https://api.openai.com/v1/chat/completions \"HTTP/1.1 200 OK\"\n"
     ]
    },
    {
     "name": "stdout",
     "output_type": "stream",
     "text": [
      "==================================\u001b[1m Ai Message \u001b[0m==================================\n",
      "\n",
      "I see you're looking for cooking tips and techniques for a recipe. Could you please provide me with the details listed above so I can tailor my advice to your needs?\n",
      "Recipe, nutrition analysis, and cooking tips completed! Let me know if you need any modifications or have questions!\n",
      "User (q/Q to quit): no,4 hours,basic,no,no  also gice me the proteins in that\n"
     ]
    },
    {
     "name": "stderr",
     "output_type": "stream",
     "text": [
      "INFO:httpx:HTTP Request: POST https://api.openai.com/v1/chat/completions \"HTTP/1.1 200 OK\"\n"
     ]
    },
    {
     "name": "stdout",
     "output_type": "stream",
     "text": [
      "==================================\u001b[1m Ai Message \u001b[0m==================================\n",
      "\n",
      "Great! Let's proceed with creating the paneer pizza recipe for 4 servings. I will also calculate the protein content in the recipe. \n",
      "\n",
      "Let's start with the ingredients for the paneer pizza. Could you please confirm if you have the following ingredients or if you have any preferences for them?\n",
      "1. Pizza dough\n",
      "2. Pizza sauce\n",
      "3. Paneer (cottage cheese)\n",
      "4. Bell peppers (capsicum)\n",
      "5. Onion\n",
      "6. Cheese (mozzarella or any preferred cheese)\n",
      "7. Olive oil\n",
      "8. Herbs and spices (like oregano, chili flakes, salt, pepper)\n",
      "\n",
      "Once you confirm the ingredients, I will proceed with generating the recipe and calculating the protein content.\n"
     ]
    },
    {
     "name": "stderr",
     "output_type": "stream",
     "text": [
      "INFO:httpx:HTTP Request: POST https://api.openai.com/v1/chat/completions \"HTTP/1.1 200 OK\"\n"
     ]
    },
    {
     "name": "stdout",
     "output_type": "stream",
     "text": [
      "==================================\u001b[1m Ai Message \u001b[0m==================================\n",
      "\n",
      "I don't have any dietary restrictions. I'm looking for a recipe that takes around 30 minutes to cook. I would say my cooking skill level is intermediate. I have basic ingredients like chicken, vegetables, rice, and spices. I have a stove, oven, pots, and pans for cooking.\n"
     ]
    },
    {
     "name": "stderr",
     "output_type": "stream",
     "text": [
      "INFO:httpx:HTTP Request: POST https://api.openai.com/v1/chat/completions \"HTTP/1.1 200 OK\"\n"
     ]
    },
    {
     "name": "stdout",
     "output_type": "stream",
     "text": [
      "==================================\u001b[1m Ai Message \u001b[0m==================================\n",
      "\n",
      "Great! Here are some general cooking tips and techniques for making a classic Spaghetti Carbonara:\n",
      "\n",
      "1. **General Cooking Techniques**:\n",
      "   - Use a large pot to cook the spaghetti in plenty of salted boiling water until al dente.\n",
      "   - Cook the pancetta or guanciale until crispy before adding it to the pasta.\n",
      "   - Toss the hot pasta with the egg and cheese mixture off the heat to avoid scrambling the eggs.\n",
      "   - Reserve some pasta water to adjust the consistency of the sauce if needed.\n",
      "\n",
      "2. **Tips for Ingredient Preparation**:\n",
      "   - Grate the cheese fresh for the best flavor and texture.\n",
      "   - Use fresh eggs at room temperature for a creamy sauce.\n",
      "   - Chop the pancetta or guanciale into small pieces for even cooking and distribution in the pasta.\n",
      "\n",
      "3. **Suggestions for Enhancing Flavors**:\n",
      "   - Add freshly cracked black pepper for a nice kick of flavor.\n",
      "   - Consider using a mix of Pecorino Romano and Parmigiano-Reggiano cheeses for a more complex flavor profile.\n",
      "   - Garnish with chopped parsley or a drizzle of high-quality olive oil before serving.\n",
      "\n",
      "4. **Common Mistakes to Avoid**:\n",
      "   - Avoid overcooking the pancetta or guanciale, as it can become tough.\n",
      "   - Be cautious when adding the egg and cheese mixture to the pasta to prevent curdling.\n",
      "   - Don't skip reserving pasta water; it helps create a silky sauce.\n",
      "\n",
      "5. **Time-Saving Tricks**:\n",
      "   - Prep all your ingredients before starting to cook to make the process smoother.\n",
      "   - Consider using pre-grated cheese to save time, but freshly grated cheese will have better flavor.\n",
      "\n",
      "6. **Plating and Presentation Ideas**:\n",
      "   - Twirl the pasta onto a serving plate using tongs for a nice presentation.\n",
      "   - Top the dish with an extra sprinkle of cheese and some more freshly cracked black pepper.\n",
      "   - Serve the Spaghetti Carbonara immediately to enjoy it at its best texture and flavor.\n",
      "\n",
      "Feel free to ask if you need more specific tips or have any other questions!\n",
      "Recipe, nutrition analysis, and cooking tips completed! Let me know if you need any modifications or have questions!\n",
      "User (q/Q to quit): ok\n"
     ]
    },
    {
     "name": "stderr",
     "output_type": "stream",
     "text": [
      "INFO:httpx:HTTP Request: POST https://api.openai.com/v1/chat/completions \"HTTP/1.1 200 OK\"\n"
     ]
    },
    {
     "name": "stdout",
     "output_type": "stream",
     "text": [
      "==================================\u001b[1m Ai Message \u001b[0m==================================\n",
      "Tool Calls:\n",
      "  RecipeInstructions (call_e2bYXhqTjrd1q2NmVzspVAqI)\n",
      " Call ID: call_e2bYXhqTjrd1q2NmVzspVAqI\n",
      "  Args:\n",
      "    dish_name: Paneer Pizza\n",
      "    servings: 4\n",
      "    dietary_restrictions: []\n",
      "    cooking_time: 4 hours\n",
      "    difficulty_level: Basic\n",
      "    ingredients: ['Pizza dough', 'Pizza sauce', 'Paneer (cottage cheese)', 'Bell peppers (capsicum)', 'Onion', 'Cheese (mozzarella or preferred cheese)', 'Olive oil', 'Herbs and spices (oregano, chili flakes, salt, pepper)']\n",
      "    special_equipment: []\n",
      "=================================\u001b[1m Tool Message \u001b[0m=================================\n",
      "\n",
      "Recipe generated!\n"
     ]
    },
    {
     "name": "stderr",
     "output_type": "stream",
     "text": [
      "INFO:httpx:HTTP Request: POST https://api.openai.com/v1/chat/completions \"HTTP/1.1 200 OK\"\n"
     ]
    },
    {
     "name": "stdout",
     "output_type": "stream",
     "text": [
      "==================================\u001b[1m Ai Message \u001b[0m==================================\n",
      "\n",
      "Paneer Pizza Recipe\n",
      "\n",
      "Ingredients:\n",
      "- Pizza dough (enough for a 12-inch pizza)\n",
      "- 1/2 cup Pizza sauce\n",
      "- 200g Paneer (cottage cheese), cubed\n",
      "- 1 Bell pepper (capsicum), thinly sliced\n",
      "- 1 Onion, thinly sliced\n",
      "- 1 cup Cheese (mozzarella or preferred cheese), shredded\n",
      "- 2 tbsp Olive oil\n",
      "- Herbs and spices: Oregano, Chili flakes, Salt, Pepper\n",
      "\n",
      "Equipment:\n",
      "- Oven\n",
      "- Baking tray or pizza stone\n",
      "- Rolling pin\n",
      "- Cutting board\n",
      "- Knife\n",
      "- Mixing bowls\n",
      "- Spoon\n",
      "\n",
      "Step-by-step Preparation Instructions:\n",
      "\n",
      "1. Preheat the oven to 220°C (425°F).\n",
      "\n",
      "2. Roll out the pizza dough on a floured surface to fit the size of your baking tray or pizza stone.\n",
      "\n",
      "3. Place the rolled out dough on the baking tray or pizza stone.\n",
      "\n",
      "4. Spread the pizza sauce evenly over the dough, leaving a small border around the edges.\n",
      "\n",
      "5. Arrange the cubed paneer, sliced bell peppers, and onions on top of the sauce.\n",
      "\n",
      "6. Sprinkle the shredded cheese over the vegetables and paneer.\n",
      "\n",
      "7. Drizzle olive oil over the pizza and sprinkle with oregano, chili flakes, salt, and pepper to taste.\n",
      "\n",
      "8. Place the pizza in the preheated oven and bake for 15-20 minutes or until the crust is golden brown and the cheese is melted and bubbly.\n",
      "\n",
      "9. Remove the pizza from the oven and let it cool for a few minutes before slicing.\n",
      "\n",
      "Cooking Tips and Timing:\n",
      "- Make sure to preheat the oven to the correct temperature to ensure the pizza cooks evenly and the crust gets crispy.\n",
      "- You can customize the toppings to your preference by adding more vegetables or protein.\n",
      "- Keep an eye on the pizza while it's baking to prevent burning.\n",
      "- Cooking time may vary based on your oven, so check the pizza after 15 minutes to see if it's done.\n",
      "\n",
      "Serving Suggestions:\n",
      "- Serve the Paneer Pizza hot with a side salad or garlic bread.\n",
      "- You can sprinkle some more chili flakes or fresh herbs on top before serving for extra flavor.\n",
      "\n",
      "Storage Instructions:\n",
      "- Leftover pizza can be stored in an airtight container in the refrigerator for up to 3 days. Reheat in the oven for best results.\n"
     ]
    },
    {
     "name": "stderr",
     "output_type": "stream",
     "text": [
      "INFO:httpx:HTTP Request: POST https://api.openai.com/v1/chat/completions \"HTTP/1.1 200 OK\"\n"
     ]
    },
    {
     "name": "stdout",
     "output_type": "stream",
     "text": [
      "==================================\u001b[1m Ai Message \u001b[0m==================================\n",
      "\n",
      "I don't have any dietary restrictions, and I'm open to any suggestions for making the recipe healthier. I have about 45 minutes to cook, and I would say I have an intermediate cooking skill level. I have a well-stocked pantry and fridge, so feel free to suggest any ingredients. I have basic cooking equipment like pots, pans, and utensils.\n"
     ]
    },
    {
     "name": "stderr",
     "output_type": "stream",
     "text": [
      "INFO:httpx:HTTP Request: POST https://api.openai.com/v1/chat/completions \"HTTP/1.1 200 OK\"\n"
     ]
    },
    {
     "name": "stdout",
     "output_type": "stream",
     "text": [
      "==================================\u001b[1m Ai Message \u001b[0m==================================\n",
      "\n",
      "I can provide general tips and techniques for a chicken stir-fry recipe:\n",
      "\n",
      "1. **General Cooking Techniques**:\n",
      "   - **High Heat**: Stir-frying requires high heat to cook the ingredients quickly while maintaining their texture and color.\n",
      "   - **Prep Work**: Have all your ingredients chopped and ready to go before you start cooking. Stir-frying is a fast process, and you don't want to be chopping while things are cooking.\n",
      "\n",
      "2. **Tips for Ingredient Preparation**:\n",
      "   - **Thinly Sliced Chicken**: For quick and even cooking, slice the chicken into thin strips or bite-sized pieces.\n",
      "   - **Uniformly Cut Vegetables**: Cut vegetables into similar sizes to ensure they cook at the same rate.\n",
      "   - **Marinate the Chicken**: Marinating the chicken in a mixture of soy sauce, garlic, and ginger can add flavor and tenderize the meat.\n",
      "\n",
      "3. **Suggestions for Enhancing Flavors**:\n",
      "   - **Aromatics**: Use garlic, ginger, and green onions to add depth of flavor to your stir-fry.\n",
      "   - **Soy Sauce**: For a classic stir-fry flavor, use soy sauce or tamari. You can also add oyster sauce or hoisin sauce for extra richness.\n",
      "   - **Sesame Oil**: A drizzle of sesame oil at the end of cooking can add a nutty flavor to your dish.\n",
      "\n",
      "4. **Common Mistakes to Avoid**:\n",
      "   - **Overcrowding the Pan**: Cook in batches if needed to avoid steaming the ingredients instead of stir-frying them.\n",
      "   - **Not Preheating the Pan**: Make sure your pan is hot before adding ingredients to ensure a good sear.\n",
      "\n",
      "5. **Time-Saving Tricks**:\n",
      "   - **Prep Ahead**: You can chop vegetables and marinate the chicken ahead of time to speed up the cooking process.\n",
      "   - **Use Frozen Vegetables**: If you're short on time, using frozen stir-fry vegetable mixes can be a quick and convenient option.\n",
      "\n",
      "6. **Plating and Presentation Ideas**:\n",
      "   - **Garnish**: Sprinkle with toasted sesame seeds or chopped peanuts for added texture.\n",
      "   - **Serve Over Rice or Noodles**: For a complete meal, serve your chicken stir-fry over steamed rice or noodles.\n",
      "   - **Colorful Vegetables**: Use a variety of colorful vegetables like bell peppers, carrots, and snow peas for an appealing presentation.\n",
      "\n",
      "These tips should help you create a delicious and well-executed chicken stir-fry dish. Enjoy your cooking!\n",
      "Recipe, nutrition analysis, and cooking tips completed! Let me know if you need any modifications or have questions!\n",
      "User (q/Q to quit): q\n",
      "AI: Thank you for using the Recipe Builder, Nutrition Analyzer, and Cooking Tips Assistant! Happy cooking!\n",
      "Tracing Completed.\n",
      "Data saved to the database and JSON file.\n",
      "\n",
      "Trace ID: 104\n"
     ]
    }
   ],
   "source": [
    "if __name__ == \"__main__\":\n",
    "    try:\n",
    "        run_interaction()\n",
    "    finally:\n",
    "        tracer.stop()\n",
    "        print(f\"Trace ID: {tracer.trace_id}\")\n",
    "        \n"
   ]
  },
  {
   "cell_type": "code",
   "execution_count": 12,
   "metadata": {},
   "outputs": [
    {
     "name": "stderr",
     "output_type": "stream",
     "text": [
      "\u001b[92m12:59:33 - LiteLLM:INFO\u001b[0m: utils.py:2686 - \n",
      "LiteLLM completion() model= gpt-4o-mini; provider = openai\n",
      "INFO:LiteLLM:\n",
      "LiteLLM completion() model= gpt-4o-mini; provider = openai\n",
      "INFO:httpx:HTTP Request: POST https://api.openai.com/v1/chat/completions \"HTTP/1.1 200 OK\"\n",
      "\u001b[92m12:59:47 - LiteLLM:INFO\u001b[0m: utils.py:937 - Wrapper: Completed Call, calling success_handler\n",
      "INFO:LiteLLM:Wrapper: Completed Call, calling success_handler\n",
      "\u001b[92m12:59:47 - LiteLLM:INFO\u001b[0m: utils.py:2686 - \n",
      "LiteLLM completion() model= gpt-4o-mini; provider = openai\n",
      "INFO:LiteLLM:\n",
      "LiteLLM completion() model= gpt-4o-mini; provider = openai\n",
      "INFO:httpx:HTTP Request: POST https://api.openai.com/v1/chat/completions \"HTTP/1.1 200 OK\"\n",
      "\u001b[92m12:59:57 - LiteLLM:INFO\u001b[0m: utils.py:937 - Wrapper: Completed Call, calling success_handler\n",
      "INFO:LiteLLM:Wrapper: Completed Call, calling success_handler\n",
      "\u001b[92m12:59:57 - LiteLLM:INFO\u001b[0m: utils.py:2686 - \n",
      "LiteLLM completion() model= gpt-4o-mini; provider = openai\n",
      "INFO:LiteLLM:\n",
      "LiteLLM completion() model= gpt-4o-mini; provider = openai\n",
      "INFO:httpx:HTTP Request: POST https://api.openai.com/v1/chat/completions \"HTTP/1.1 200 OK\"\n",
      "\u001b[92m13:00:15 - LiteLLM:INFO\u001b[0m: utils.py:937 - Wrapper: Completed Call, calling success_handler\n",
      "INFO:LiteLLM:Wrapper: Completed Call, calling success_handler\n",
      "\u001b[92m13:00:15 - LiteLLM:INFO\u001b[0m: utils.py:2686 - \n",
      "LiteLLM completion() model= gpt-4o-mini; provider = openai\n",
      "INFO:LiteLLM:\n",
      "LiteLLM completion() model= gpt-4o-mini; provider = openai\n",
      "INFO:httpx:HTTP Request: POST https://api.openai.com/v1/chat/completions \"HTTP/1.1 200 OK\"\n",
      "\u001b[92m13:00:17 - LiteLLM:INFO\u001b[0m: utils.py:937 - Wrapper: Completed Call, calling success_handler\n",
      "INFO:LiteLLM:Wrapper: Completed Call, calling success_handler\n"
     ]
    }
   ],
   "source": [
    "results = execute_metrics(neo_session, tracer.trace_id)\n"
   ]
  },
  {
   "cell_type": "code",
   "execution_count": 13,
   "metadata": {},
   "outputs": [
    {
     "name": "stdout",
     "output_type": "stream",
     "text": [
      "\n",
      "Metrics Results:\n",
      "[{'metric_name': 'goal_decomposition_efficiency', 'score': 0.85, 'reason': \"The decomposition of the original goal into sub-tasks is largely effective, covering all necessary aspects of creating a recipe. The tools are appropriately assigned to each sub-task, and the logical sequence is clear, allowing for efficient execution. However, there could be slight improvements in granularity, particularly in the confirmation of ingredients, which could be more detailed. Overall, the sub-tasks are well-defined and facilitate achieving the user's goal.\", 'result_detail': {'metric_name': 'goal_fulfillment_rate', 'config': {}, 'result': {'originalGoal': 'The user intends to create a paneer pizza for four people and is seeking assistance in generating a detailed recipe, including nutritional information.', 'subtasks': ['Gather the following information: Name of the dish, Number of servings, Dietary restrictions, Desired cooking time, Cooking skill level, Available ingredients, Available cooking equipment.', 'Confirm the ingredients with the user.', 'Generate the detailed recipe for Paneer Pizza, including: List of ingredients with quantities, Required equipment, Step-by-step preparation instructions, Cooking tips and timing, Serving suggestions, Storage instructions if applicable.', 'Calculate the protein content in the recipe.', 'Provide the user with the complete recipe and nutritional information.'], 'score': 0.85, 'reason': \"The decomposition of the original goal into sub-tasks is largely effective, covering all necessary aspects of creating a recipe. The tools are appropriately assigned to each sub-task, and the logical sequence is clear, allowing for efficient execution. However, there could be slight improvements in granularity, particularly in the confirmation of ingredients, which could be more detailed. Overall, the sub-tasks are well-defined and facilitate achieving the user's goal.\"}}, 'config': {}, 'start_time': '2024-10-22T12:59:33.545840', 'end_time': '2024-10-22T13:00:15.796228', 'duration': 42.250388}, {'metric_name': 'goal_fulfillment_rate', 'score': 0.0, 'reason': \"The user query specifically requests a recipe for 'panner pizza' for 4 members, indicating a desire for a specific dish and serving size. However, the system response provides a detailed guide on making a chicken stir-fry instead, which is entirely unrelated to the user's request. The response does not address the user's needs at all, failing to provide any information about panner pizza, its ingredients, preparation methods, or serving suggestions. Therefore, the goal fulfillment rate is 0.0, as the response does not meet the user's query in any way.\", 'result_detail': {'metric_name': 'goal_fulfillment_rate', 'config': {}, 'result': {'inputGoal': {'arg_0': 'self (instance)', 'arg_1': [\"content='I want to make panner pizza for 4 members' additional_kwargs={} response_metadata={} id='b464f87d-8c16-4732-b008-b34cc2003954'\"]}, 'finalResponse': '{\\'messages\\': [AIMessage(content=\"I can provide general tips and techniques for a chicken stir-fry recipe:\\\\n\\\\n1. **General Cooking Techniques**:\\\\n   - **High Heat**: Stir-frying requires high heat to cook the ingredients quickly while maintaining their texture and color.\\\\n   - **Prep Work**: Have all your ingredients chopped and ready to go before you start cooking. Stir-frying is a fast process, and you don\\'t want to be chopping while things are cooking.\\\\n\\\\n2. **Tips for Ingredient Preparation**:\\\\n   - **Thinly Sliced Chicken**: For quick and even cooking, slice the chicken into thin strips or bite-sized pieces.\\\\n   - **Uniformly Cut Vegetables**: Cut vegetables into similar sizes to ensure they cook at the same rate.\\\\n   - **Marinate the Chicken**: Marinating the chicken in a mixture of soy sauce, garlic, and ginger can add flavor and tenderize the meat.\\\\n\\\\n3. **Suggestions for Enhancing Flavors**:\\\\n   - **Aromatics**: Use garlic, ginger, and green onions to add depth of flavor to your stir-fry.\\\\n   - **Soy Sauce**: For a classic stir-fry flavor, use soy sauce or tamari. You can also add oyster sauce or hoisin sauce for extra richness.\\\\n   - **Sesame Oil**: A drizzle of sesame oil at the end of cooking can add a nutty flavor to your dish.\\\\n\\\\n4. **Common Mistakes to Avoid**:\\\\n   - **Overcrowding the Pan**: Cook in batches if needed to avoid steaming the ingredients instead of stir-frying them.\\\\n   - **Not Preheating the Pan**: Make sure your pan is hot before adding ingredients to ensure a good sear.\\\\n\\\\n5. **Time-Saving Tricks**:\\\\n   - **Prep Ahead**: You can chop vegetables and marinate the chicken ahead of time to speed up the cooking process.\\\\n   - **Use Frozen Vegetables**: If you\\'re short on time, using frozen stir-fry vegetable mixes can be a quick and convenient option.\\\\n\\\\n6. **Plating and Presentation Ideas**:\\\\n   - **Garnish**: Sprinkle with toasted sesame seeds or chopped peanuts for added texture.\\\\n   - **Serve Over Rice or Noodles**: For a complete meal, serve your chicken stir-fry over steamed rice or noodles.\\\\n   - **Colorful Vegetables**: Use a variety of colorful vegetables like bell peppers, carrots, and snow peas for an appealing presentation.\\\\n\\\\nThese tips should help you create a delicious and well-executed chicken stir-fry dish. Enjoy your cooking!\", additional_kwargs={\\'refusal\\': None}, response_metadata={\\'token_usage\\': {\\'completion_tokens\\': 518, \\'prompt_tokens\\': 179, \\'total_tokens\\': 697, \\'completion_tokens_details\\': {\\'audio_tokens\\': None, \\'reasoning_tokens\\': 0}, \\'prompt_tokens_details\\': {\\'audio_tokens\\': None, \\'cached_tokens\\': 0}}, \\'model_name\\': \\'gpt-3.5-turbo-0125\\', \\'system_fingerprint\\': None, \\'finish_reason\\': \\'stop\\', \\'logprobs\\': None}, id=\\'run-9efbde41-2506-429a-ba5b-4677e19d7a72-0\\', usage_metadata={\\'input_tokens\\': 179, \\'output_tokens\\': 518, \\'total_tokens\\': 697, \\'input_token_details\\': {\\'cache_read\\': 0}, \\'output_token_details\\': {\\'reasoning\\': 0}})]}', 'score': 0.0, 'reason': \"The user query specifically requests a recipe for 'panner pizza' for 4 members, indicating a desire for a specific dish and serving size. However, the system response provides a detailed guide on making a chicken stir-fry instead, which is entirely unrelated to the user's request. The response does not address the user's needs at all, failing to provide any information about panner pizza, its ingredients, preparation methods, or serving suggestions. Therefore, the goal fulfillment rate is 0.0, as the response does not meet the user's query in any way.\"}}, 'config': {}, 'start_time': '2024-10-22T13:00:15.796228', 'end_time': '2024-10-22T13:00:17.886535', 'duration': 2.090307}, {'metric_name': 'tool_call_success_rate_metric', 'score': 1.0, 'reason': '{\"successful_calls\": 43, \"total_calls\": 43}', 'result_detail': {'metric_name': 'tool_call_success_rate', 'config': {}, 'result': {'score': 1.0, 'reason': '{\"successful_calls\": 43, \"total_calls\": 43}'}}, 'config': {}, 'start_time': '2024-10-22T13:00:17.886535', 'end_time': '2024-10-22T13:00:17.886535', 'duration': 0.0}]\n"
     ]
    }
   ],
   "source": [
    "# Display results\n",
    "print_metrics_results(results)\n",
    "        \n"
   ]
  },
  {
   "cell_type": "code",
   "execution_count": 14,
   "metadata": {},
   "outputs": [
    {
     "data": {
      "text/plain": [
       "[{'metric_name': 'goal_decomposition_efficiency',\n",
       "  'score': 0.85,\n",
       "  'reason': \"The decomposition of the original goal into sub-tasks is largely effective, covering all necessary aspects of creating a recipe. The tools are appropriately assigned to each sub-task, and the logical sequence is clear, allowing for efficient execution. However, there could be slight improvements in granularity, particularly in the confirmation of ingredients, which could be more detailed. Overall, the sub-tasks are well-defined and facilitate achieving the user's goal.\",\n",
       "  'result_detail': {'metric_name': 'goal_fulfillment_rate',\n",
       "   'config': {},\n",
       "   'result': {'originalGoal': 'The user intends to create a paneer pizza for four people and is seeking assistance in generating a detailed recipe, including nutritional information.',\n",
       "    'subtasks': ['Gather the following information: Name of the dish, Number of servings, Dietary restrictions, Desired cooking time, Cooking skill level, Available ingredients, Available cooking equipment.',\n",
       "     'Confirm the ingredients with the user.',\n",
       "     'Generate the detailed recipe for Paneer Pizza, including: List of ingredients with quantities, Required equipment, Step-by-step preparation instructions, Cooking tips and timing, Serving suggestions, Storage instructions if applicable.',\n",
       "     'Calculate the protein content in the recipe.',\n",
       "     'Provide the user with the complete recipe and nutritional information.'],\n",
       "    'score': 0.85,\n",
       "    'reason': \"The decomposition of the original goal into sub-tasks is largely effective, covering all necessary aspects of creating a recipe. The tools are appropriately assigned to each sub-task, and the logical sequence is clear, allowing for efficient execution. However, there could be slight improvements in granularity, particularly in the confirmation of ingredients, which could be more detailed. Overall, the sub-tasks are well-defined and facilitate achieving the user's goal.\"}},\n",
       "  'config': {},\n",
       "  'start_time': '2024-10-22T12:59:33.545840',\n",
       "  'end_time': '2024-10-22T13:00:15.796228',\n",
       "  'duration': 42.250388},\n",
       " {'metric_name': 'goal_fulfillment_rate',\n",
       "  'score': 0.0,\n",
       "  'reason': \"The user query specifically requests a recipe for 'panner pizza' for 4 members, indicating a desire for a specific dish and serving size. However, the system response provides a detailed guide on making a chicken stir-fry instead, which is entirely unrelated to the user's request. The response does not address the user's needs at all, failing to provide any information about panner pizza, its ingredients, preparation methods, or serving suggestions. Therefore, the goal fulfillment rate is 0.0, as the response does not meet the user's query in any way.\",\n",
       "  'result_detail': {'metric_name': 'goal_fulfillment_rate',\n",
       "   'config': {},\n",
       "   'result': {'inputGoal': {'arg_0': 'self (instance)',\n",
       "     'arg_1': [\"content='I want to make panner pizza for 4 members' additional_kwargs={} response_metadata={} id='b464f87d-8c16-4732-b008-b34cc2003954'\"]},\n",
       "    'finalResponse': '{\\'messages\\': [AIMessage(content=\"I can provide general tips and techniques for a chicken stir-fry recipe:\\\\n\\\\n1. **General Cooking Techniques**:\\\\n   - **High Heat**: Stir-frying requires high heat to cook the ingredients quickly while maintaining their texture and color.\\\\n   - **Prep Work**: Have all your ingredients chopped and ready to go before you start cooking. Stir-frying is a fast process, and you don\\'t want to be chopping while things are cooking.\\\\n\\\\n2. **Tips for Ingredient Preparation**:\\\\n   - **Thinly Sliced Chicken**: For quick and even cooking, slice the chicken into thin strips or bite-sized pieces.\\\\n   - **Uniformly Cut Vegetables**: Cut vegetables into similar sizes to ensure they cook at the same rate.\\\\n   - **Marinate the Chicken**: Marinating the chicken in a mixture of soy sauce, garlic, and ginger can add flavor and tenderize the meat.\\\\n\\\\n3. **Suggestions for Enhancing Flavors**:\\\\n   - **Aromatics**: Use garlic, ginger, and green onions to add depth of flavor to your stir-fry.\\\\n   - **Soy Sauce**: For a classic stir-fry flavor, use soy sauce or tamari. You can also add oyster sauce or hoisin sauce for extra richness.\\\\n   - **Sesame Oil**: A drizzle of sesame oil at the end of cooking can add a nutty flavor to your dish.\\\\n\\\\n4. **Common Mistakes to Avoid**:\\\\n   - **Overcrowding the Pan**: Cook in batches if needed to avoid steaming the ingredients instead of stir-frying them.\\\\n   - **Not Preheating the Pan**: Make sure your pan is hot before adding ingredients to ensure a good sear.\\\\n\\\\n5. **Time-Saving Tricks**:\\\\n   - **Prep Ahead**: You can chop vegetables and marinate the chicken ahead of time to speed up the cooking process.\\\\n   - **Use Frozen Vegetables**: If you\\'re short on time, using frozen stir-fry vegetable mixes can be a quick and convenient option.\\\\n\\\\n6. **Plating and Presentation Ideas**:\\\\n   - **Garnish**: Sprinkle with toasted sesame seeds or chopped peanuts for added texture.\\\\n   - **Serve Over Rice or Noodles**: For a complete meal, serve your chicken stir-fry over steamed rice or noodles.\\\\n   - **Colorful Vegetables**: Use a variety of colorful vegetables like bell peppers, carrots, and snow peas for an appealing presentation.\\\\n\\\\nThese tips should help you create a delicious and well-executed chicken stir-fry dish. Enjoy your cooking!\", additional_kwargs={\\'refusal\\': None}, response_metadata={\\'token_usage\\': {\\'completion_tokens\\': 518, \\'prompt_tokens\\': 179, \\'total_tokens\\': 697, \\'completion_tokens_details\\': {\\'audio_tokens\\': None, \\'reasoning_tokens\\': 0}, \\'prompt_tokens_details\\': {\\'audio_tokens\\': None, \\'cached_tokens\\': 0}}, \\'model_name\\': \\'gpt-3.5-turbo-0125\\', \\'system_fingerprint\\': None, \\'finish_reason\\': \\'stop\\', \\'logprobs\\': None}, id=\\'run-9efbde41-2506-429a-ba5b-4677e19d7a72-0\\', usage_metadata={\\'input_tokens\\': 179, \\'output_tokens\\': 518, \\'total_tokens\\': 697, \\'input_token_details\\': {\\'cache_read\\': 0}, \\'output_token_details\\': {\\'reasoning\\': 0}})]}',\n",
       "    'score': 0.0,\n",
       "    'reason': \"The user query specifically requests a recipe for 'panner pizza' for 4 members, indicating a desire for a specific dish and serving size. However, the system response provides a detailed guide on making a chicken stir-fry instead, which is entirely unrelated to the user's request. The response does not address the user's needs at all, failing to provide any information about panner pizza, its ingredients, preparation methods, or serving suggestions. Therefore, the goal fulfillment rate is 0.0, as the response does not meet the user's query in any way.\"}},\n",
       "  'config': {},\n",
       "  'start_time': '2024-10-22T13:00:15.796228',\n",
       "  'end_time': '2024-10-22T13:00:17.886535',\n",
       "  'duration': 2.090307},\n",
       " {'metric_name': 'tool_call_success_rate_metric',\n",
       "  'score': 1.0,\n",
       "  'reason': '{\"successful_calls\": 43, \"total_calls\": 43}',\n",
       "  'result_detail': {'metric_name': 'tool_call_success_rate',\n",
       "   'config': {},\n",
       "   'result': {'score': 1.0,\n",
       "    'reason': '{\"successful_calls\": 43, \"total_calls\": 43}'}},\n",
       "  'config': {},\n",
       "  'start_time': '2024-10-22T13:00:17.886535',\n",
       "  'end_time': '2024-10-22T13:00:17.886535',\n",
       "  'duration': 0.0}]"
      ]
     },
     "execution_count": 14,
     "metadata": {},
     "output_type": "execute_result"
    }
   ],
   "source": [
    "results"
   ]
  },
  {
   "cell_type": "code",
   "execution_count": 15,
   "metadata": {},
   "outputs": [
    {
     "name": "stderr",
     "output_type": "stream",
     "text": [
      "INFO:root:Dashboard launched successfully. Access it at: http://localhost:3000\n"
     ]
    }
   ],
   "source": [
    "# Launch dashboard\n",
    "launch_metrics_dashboard(neo_session)"
   ]
  }
 ],
 "metadata": {
  "kernelspec": {
   "display_name": "venv",
   "language": "python",
   "name": "python3"
  },
  "language_info": {
   "codemirror_mode": {
    "name": "ipython",
    "version": 3
   },
   "file_extension": ".py",
   "mimetype": "text/x-python",
   "name": "python",
   "nbconvert_exporter": "python",
   "pygments_lexer": "ipython3",
   "version": "3.12.6"
  }
 },
 "nbformat": 4,
 "nbformat_minor": 2
}
