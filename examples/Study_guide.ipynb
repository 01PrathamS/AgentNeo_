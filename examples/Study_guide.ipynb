{
 "cells": [
  {
   "cell_type": "markdown",
   "metadata": {},
   "source": [
    "# Langgraph with AgentNeo Integration\n",
    " This Jupyter notebook demonstrates the integration of AgentNeo, a powerful tracing and monitoring tool, with Langgraph, a graph-based approach to managing language models with an agent-based system to enhance the automation and decision-making capabilities of your application. This integration allows for comprehensive analysis and debugging of AI-powered systems."
   ]
  },
  {
   "cell_type": "markdown",
   "metadata": {},
   "source": [
    " # Setup and Imports\n",
    "First, let's import the necessary libraries and set up our environment."
   ]
  },
  {
   "cell_type": "code",
   "execution_count": 1,
   "metadata": {},
   "outputs": [],
   "source": [
    "%%capture --no-stderr\n",
    "%pip install -U langchain langchain_openai langsmith pandas langchain_experimental matplotlib langgraph langchain_core"
   ]
  },
  {
   "cell_type": "code",
   "execution_count": 2,
   "metadata": {},
   "outputs": [],
   "source": [
    "\n",
    "import os\n",
    "import uuid\n",
    "from dotenv import load_dotenv\n",
    "from typing import List, Literal, Annotated\n",
    "from typing_extensions import TypedDict\n",
    "import openai\n",
    "\n",
    "from langchain_core.messages import (\n",
    "    SystemMessage, \n",
    "    HumanMessage, \n",
    "    AIMessage, \n",
    "    ToolMessage\n",
    ")\n",
    "from langchain_openai import ChatOpenAI\n",
    "from pydantic import BaseModel\n",
    "\n",
    "from langgraph.graph import StateGraph, START, END\n",
    "from langgraph.checkpoint.memory import MemorySaver\n",
    "from langgraph.graph.message import add_messages\n",
    "\n",
    "\n",
    "# Load environment variables from .env file\n",
    "load_dotenv()\n",
    "\n",
    "# Initialize OpenAI API using environment variables\n",
    "openai.api_key = os.getenv(\"OPENAI_API_KEY\")\n"
   ]
  },
  {
   "cell_type": "markdown",
   "metadata": {},
   "source": [
    "\n",
    " # Initialize AgentNeo Session and Tracer\n",
    " Now, let's set up our AgentNeo session and tracer.\n",
    "\n"
   ]
  },
  {
   "cell_type": "code",
   "execution_count": 3,
   "metadata": {},
   "outputs": [
    {
     "name": "stderr",
     "output_type": "stream",
     "text": [
      "INFO:httpx:HTTP Request: GET https://raw.githubusercontent.com/BerriAI/litellm/main/model_prices_and_context_window.json \"HTTP/1.1 200 OK\"\n"
     ]
    },
    {
     "name": "stdout",
     "output_type": "stream",
     "text": [
      "Project 'Study_Guide' found.\n",
      "Tracing Started.\n"
     ]
    }
   ],
   "source": [
    "from agentneo import AgentNeo, Tracer, Execution\n",
    "\n",
    "\n",
    "# Initialize AgentNeo session\n",
    "neo_session = AgentNeo(session_name=\"recipe_builder_assistant\")\n",
    "try:\n",
    "    neo_session.create_project(project_name=\"Study_Guide\")\n",
    "except:\n",
    "    neo_session.connect_project(project_name=\"Study_Guide\")\n",
    "\n",
    "# Create tracer\n",
    "tracer = Tracer(session=neo_session)\n",
    "tracer.start()"
   ]
  },
  {
   "cell_type": "markdown",
   "metadata": {},
   "source": [
    "\n",
    " # Define Agents and Tools\n",
    "Now, let's create our AI tools using langgraph."
   ]
  },
  {
   "cell_type": "code",
   "execution_count": 4,
   "metadata": {},
   "outputs": [],
   "source": [
    "# Define Agents and Tools\n",
    "\n",
    "@tracer.trace_agent(name=\"StudyPlan\")\n",
    "class StudyPlan(BaseModel):\n",
    "    \"\"\"Study plan for data science topics.\"\"\"\n",
    "    topic: str\n",
    "    duration: str\n",
    "    key_concepts: List[str]\n",
    "\n",
    "@tracer.trace_agent(name=\"StudyPlannerAgent\")\n",
    "class StudyPlannerAgent:\n",
    "    def __init__(self):\n",
    "        self.template = \"\"\"You are a helpful data science study planner. Your job is to create structured study plans for various data science topics.\n",
    "\n",
    "Given a data science topic:\n",
    "1. Break down the topic into 3-5 key concepts or sub-topics\n",
    "2. Suggest a realistic time allocation for each sub-topic\n",
    "3. Recommend a total study duration\"\"\"\n",
    "\n",
    "        self.llm = ChatOpenAI(temperature=0.7)\n",
    "        self.llm_with_tool = self.llm.bind_tools([StudyPlan])\n",
    "\n",
    "    @tracer.trace_tool(name=\"study_plan_chain\")\n",
    "    def study_plan_chain(self, state):\n",
    "        messages = [SystemMessage(content=self.template)] + state[\"messages\"]\n",
    "        response = self.llm_with_tool.invoke(messages)\n",
    "        return {\"messages\": [response]}\n"
   ]
  },
  {
   "cell_type": "code",
   "execution_count": 5,
   "metadata": {},
   "outputs": [],
   "source": [
    "@tracer.trace_agent(name=\"ConceptExplainerAgent\")\n",
    "class ConceptExplainerAgent:\n",
    "    def __init__(self):\n",
    "        self.template = \"\"\"You are a data science concept explainer. Your job is to provide clear explanations of data science concepts and theories.\n",
    "\n",
    "Given a data science concept:\n",
    "1. Provide a concise definition\n",
    "2. Explain the concept's importance in data science\n",
    "3. Give a practical example or use case\"\"\"\n",
    "\n",
    "        self.llm = ChatOpenAI(temperature=0.3)\n",
    "\n",
    "    @tracer.trace_tool(name=\"concept_explanation_chain\")\n",
    "    def concept_explanation_chain(self, state):\n",
    "        messages = [SystemMessage(content=self.template)] + state[\"messages\"]\n",
    "        response = self.llm.invoke(messages)\n",
    "        return {\"messages\": [response]}\n",
    "\n"
   ]
  },
  {
   "cell_type": "code",
   "execution_count": 6,
   "metadata": {},
   "outputs": [],
   "source": [
    "@tracer.trace_agent(name=\"PracticalExerciseGenerator\")\n",
    "class PracticalExerciseGenerator:\n",
    "    def __init__(self):\n",
    "        self.template = \"\"\"You are a practical exercise generator for data science topics. Your job is to create hands-on coding exercises or data analysis tasks.\n",
    "\n",
    "Given a data science concept or topic:\n",
    "1. Create a practical exercise that reinforces the concept\n",
    "2. Provide a clear problem statement\n",
    "3. Offer hints or tips for approaching the problem\"\"\"\n",
    "\n",
    "        self.llm = ChatOpenAI(temperature=0.7)\n",
    "\n",
    "    @tracer.trace_tool(name=\"generate_exercise_chain\")\n",
    "    def generate_exercise_chain(self, state):\n",
    "        messages = [SystemMessage(content=self.template)] + state[\"messages\"]\n",
    "        response = self.llm.invoke(messages)\n",
    "        return {\"messages\": [response]}"
   ]
  },
  {
   "cell_type": "code",
   "execution_count": 7,
   "metadata": {},
   "outputs": [],
   "source": [
    "@tracer.trace_agent(name=\"ResourceRecommenderAgent\")\n",
    "class ResourceRecommenderAgent:\n",
    "    def __init__(self):\n",
    "        self.template = \"\"\"You are a resource recommender for data science topics. Your job is to suggest relevant learning materials.\n",
    "\n",
    "Given a data science topic or concept:\n",
    "1. Recommend 2-3 books (with authors) relevant to the topic\n",
    "2. Suggest 1-2 online courses or MOOCs\n",
    "3. Provide links to 2-3 high-quality tutorials or articles\"\"\"\n",
    "\n",
    "        self.llm = ChatOpenAI(temperature=0.5)\n",
    "\n",
    "    @tracer.trace_tool(name=\"recommend_resources_chain\")\n",
    "    def recommend_resources_chain(self, state):\n",
    "        messages = [SystemMessage(content=self.template)] + state[\"messages\"]\n",
    "        response = self.llm.invoke(messages)\n",
    "        return {\"messages\": [response]}"
   ]
  },
  {
   "cell_type": "markdown",
   "metadata": {},
   "source": [
    "# Managing state graphs, saving memory, handling messages, and typing annotations."
   ]
  },
  {
   "cell_type": "code",
   "execution_count": 8,
   "metadata": {},
   "outputs": [],
   "source": [
    "# State management\n",
    "\n",
    "@tracer.trace_tool(name=\"get_state\")\n",
    "def get_state(state):\n",
    "    messages = state[\"messages\"]\n",
    "    if isinstance(messages[-1], AIMessage) and messages[-1].tool_calls:\n",
    "        return \"add_tool_message\"\n",
    "    elif isinstance(messages[-1], AIMessage):\n",
    "        if \"study plan\" in messages[-1].content.lower():\n",
    "            return \"concept_explanation\"\n",
    "        elif \"concept\" in messages[-1].content.lower():\n",
    "            return \"practical_exercise\"\n",
    "        elif \"exercise\" in messages[-1].content.lower():\n",
    "            return \"recommend_resources\"\n",
    "        else:\n",
    "            return END\n",
    "    elif not isinstance(messages[-1], HumanMessage):\n",
    "        return END\n",
    "    return \"study_planning\"\n",
    "\n",
    "@tracer.trace_agent(name=\"State\")\n",
    "class State(TypedDict):\n",
    "    messages: Annotated[list, add_messages]\n",
    "\n",
    "# Initialize workflow\n",
    "memory = MemorySaver()\n",
    "workflow = StateGraph(State)\n",
    "\n",
    "# Initialize agents\n",
    "study_planner = StudyPlannerAgent()\n",
    "concept_explainer = ConceptExplainerAgent()\n",
    "exercise_generator = PracticalExerciseGenerator()\n",
    "resource_recommender = ResourceRecommenderAgent()\n",
    "\n",
    "# Add nodes to workflow\n",
    "workflow.add_node(\"study_planning\", study_planner.study_plan_chain)\n",
    "workflow.add_node(\"concept_explanation\", concept_explainer.concept_explanation_chain)\n",
    "workflow.add_node(\"practical_exercise\", exercise_generator.generate_exercise_chain)\n",
    "workflow.add_node(\"recommend_resources\", resource_recommender.recommend_resources_chain)\n",
    "\n",
    "@workflow.add_node\n",
    "def add_tool_message(state: State):\n",
    "    return {\n",
    "        \"messages\": [\n",
    "            ToolMessage(\n",
    "                content=\"Study plan generated!\",\n",
    "                tool_call_id=state[\"messages\"][-1].tool_calls[0][\"id\"],\n",
    "            )\n",
    "        ]\n",
    "    }\n",
    "\n",
    "# Add edges to workflow\n",
    "workflow.add_conditional_edges(\n",
    "    \"study_planning\",\n",
    "    get_state,\n",
    "    [\"add_tool_message\", \"concept_explanation\", \"practical_exercise\", \"recommend_resources\", END]\n",
    ")\n",
    "workflow.add_edge(\"add_tool_message\", \"concept_explanation\")\n",
    "workflow.add_edge(\"concept_explanation\", \"practical_exercise\")\n",
    "workflow.add_edge(\"practical_exercise\", \"recommend_resources\")\n",
    "workflow.add_edge(\"recommend_resources\", END)\n",
    "workflow.add_edge(START, \"study_planning\")\n",
    "\n",
    "# Compile graph\n",
    "graph = workflow.compile(checkpointer=memory)"
   ]
  },
  {
   "cell_type": "markdown",
   "metadata": {},
   "source": [
    "# Displaying a PNG image of a graph generated from a LangGraph instance using Mermaid visualization"
   ]
  },
  {
   "cell_type": "code",
   "execution_count": 9,
   "metadata": {},
   "outputs": [
    {
     "data": {
      "image/jpeg": "[encoded data removed]",
      "text/plain": [
       "<IPython.core.display.Image object>"
      ]
     },
     "metadata": {},
     "output_type": "display_data"
    }
   ],
   "source": [
    "# %% \n",
    "from IPython.display import Image, display\n",
    "\n",
    "display(Image(graph.get_graph().draw_mermaid_png()))"
   ]
  },
  {
   "cell_type": "code",
   "execution_count": 10,
   "metadata": {},
   "outputs": [],
   "source": [
    "# Main interaction loop\n",
    "def run_interaction():\n",
    "    config = {\"configurable\": {\"thread_id\": str(uuid.uuid4())}}\n",
    "\n",
    "    print(\"Welcome to the Simplified Data Science Study Assistant!\")\n",
    "    print(\"You can ask for a study plan, concept explanations, practical exercises, or resource recommendations.\")\n",
    "    print(\"Type 'q' or 'quit' to exit.\")\n",
    "\n",
    "    while True:\n",
    "        user = input(\"\\nWhat would you like help with? \")\n",
    "        \n",
    "        if user.lower() in {\"q\", \"quit\"}:\n",
    "            print(\"Thank you for using the Data Science Study Assistant! Good luck with your studies!\")\n",
    "            break\n",
    "            \n",
    "        output = None\n",
    "        for output in graph.stream(\n",
    "            {\"messages\": [HumanMessage(content=user)]}, \n",
    "            config=config, \n",
    "            stream_mode=\"updates\"\n",
    "        ):\n",
    "            last_message = next(iter(output.values()))[\"messages\"][-1]\n",
    "            last_message.pretty_print()\n",
    "\n",
    "        if output and \"recommend_resources\" in output:\n",
    "            print(\"\\nStudy plan, concept explanation, practical exercise, and resource recommendations completed!\")\n",
    "            print(\"Is there anything else you'd like to know?\")\n",
    "\n"
   ]
  },
  {
   "cell_type": "markdown",
   "metadata": {},
   "source": [
    "# Metrics Evaluation System"
   ]
  },
  {
   "cell_type": "code",
   "execution_count": 11,
   "metadata": {},
   "outputs": [],
   "source": [
    "\n",
    "# Metrics Evaluation System\n",
    "def execute_metrics(neo_session, trace_id):\n",
    "    \"\"\"Execute and return metrics analysis.\"\"\"\n",
    "    exe = Execution(session=neo_session, trace_id=trace_id)\n",
    "    exe.execute(metric_list=[\n",
    "        'goal_decomposition_efficiency',\n",
    "        'goal_fulfillment_rate',\n",
    "        'tool_call_success_rate_metric'\n",
    "    ])\n",
    "    return exe.get_results()\n",
    "\n",
    "def print_metrics_results(metric_results):\n",
    "    \"\"\"Print the metrics results in a formatted way.\"\"\"\n",
    "    print(\"\\nMetrics Results:\")\n",
    "    print(metric_results)\n",
    "\n",
    "def launch_metrics_dashboard(neo_session):\n",
    "    \"\"\"Launch the AgentNeo metrics dashboard.\"\"\"\n",
    "    neo_session.launch_dashboard()"
   ]
  },
  {
   "cell_type": "code",
   "execution_count": 12,
   "metadata": {},
   "outputs": [
    {
     "name": "stdout",
     "output_type": "stream",
     "text": [
      "Welcome to the Simplified Data Science Study Assistant!\n",
      "You can ask for a study plan, concept explanations, practical exercises, or resource recommendations.\n",
      "Type 'q' or 'quit' to exit.\n"
     ]
    },
    {
     "name": "stderr",
     "output_type": "stream",
     "text": [
      "INFO:httpx:HTTP Request: POST https://api.openai.com/v1/chat/completions \"HTTP/1.1 200 OK\"\n"
     ]
    },
    {
     "name": "stdout",
     "output_type": "stream",
     "text": [
      "==================================\u001b[1m Ai Message \u001b[0m==================================\n",
      "Tool Calls:\n",
      "  StudyPlan (call_Mk2pKihAhBPhrTFexjWHyd0I)\n",
      " Call ID: call_Mk2pKihAhBPhrTFexjWHyd0I\n",
      "  Args:\n",
      "    topic: Machine Learning\n",
      "    duration: 4 weeks\n",
      "    key_concepts: ['Introduction to Machine Learning', 'Supervised Learning', 'Unsupervised Learning', 'Model Evaluation and Selection', 'Feature Engineering']\n",
      "=================================\u001b[1m Tool Message \u001b[0m=================================\n",
      "\n",
      "Study plan generated!\n"
     ]
    },
    {
     "name": "stderr",
     "output_type": "stream",
     "text": [
      "INFO:httpx:HTTP Request: POST https://api.openai.com/v1/chat/completions \"HTTP/1.1 200 OK\"\n"
     ]
    },
    {
     "name": "stdout",
     "output_type": "stream",
     "text": [
      "==================================\u001b[1m Ai Message \u001b[0m==================================\n",
      "\n",
      "That's great to hear that you want to study machine learning for 4 weeks! Machine learning is a fundamental concept in data science. Here is a brief overview of some key concepts you might cover during your study:\n",
      "\n",
      "1. **Introduction to Machine Learning**:\n",
      "   - **Definition**: Machine learning is a field of artificial intelligence that focuses on developing algorithms and statistical models to enable computers to learn from and make predictions or decisions based on data.\n",
      "   - **Importance**: Understanding the basics of machine learning is crucial for anyone looking to work with data as it allows you to build predictive models, uncover patterns in data, and make data-driven decisions.\n",
      "\n",
      "2. **Supervised Learning**:\n",
      "   - **Definition**: Supervised learning is a type of machine learning where the model is trained on labeled data, and it learns to map input data to the correct output.\n",
      "   - **Importance**: Supervised learning is widely used for tasks like classification and regression, where the goal is to predict an outcome based on input features. It forms the basis for many real-world applications such as spam detection, image recognition, and sentiment analysis.\n",
      "\n",
      "3. **Unsupervised Learning**:\n",
      "   - **Definition**: Unsupervised learning is a type of machine learning where the model is trained on unlabeled data, and it learns to find patterns or structures in the data.\n",
      "   - **Importance**: Unsupervised learning is valuable for tasks like clustering, anomaly detection, and dimensionality reduction. It helps in exploring data and discovering hidden insights without the need for labeled examples.\n",
      "\n",
      "4. **Model Evaluation and Selection**:\n",
      "   - **Definition**: Model evaluation involves assessing the performance of a machine learning model on unseen data to ensure it generalizes well. Model selection involves choosing the best algorithm or hyperparameters for the problem at hand.\n",
      "   - **Importance**: Proper model evaluation and selection are critical for building reliable and accurate machine learning models. It helps in identifying the best-performing model and avoiding overfitting or underfitting.\n",
      "\n",
      "5. **Feature Engineering**:\n",
      "   - **Definition**: Feature engineering is the process of selecting, transforming, and creating new features from the raw data to improve the performance of machine learning models.\n",
      "   - **Importance**: Feature engineering plays a vital role in enhancing the predictive power of models. By selecting relevant features and creating informative representations of the data, feature engineering can lead to better model performance.\n",
      "\n",
      "By studying these key concepts in machine learning over the next 4 weeks, you will gain a solid foundation in data science and be equipped to tackle various real-world problems using machine learning techniques. Good luck with your studies!\n"
     ]
    },
    {
     "name": "stderr",
     "output_type": "stream",
     "text": [
      "INFO:httpx:HTTP Request: POST https://api.openai.com/v1/chat/completions \"HTTP/1.1 200 OK\"\n"
     ]
    },
    {
     "name": "stdout",
     "output_type": "stream",
     "text": [
      "==================================\u001b[1m Ai Message \u001b[0m==================================\n",
      "\n",
      "Here is a practical exercise to reinforce your understanding of supervised learning:\n",
      "\n",
      "**Problem Statement:**\n",
      "You are given a dataset containing information about housing prices. Your task is to build a supervised machine learning model to predict the price of a house based on its features such as size, number of bedrooms, location, etc.\n",
      "\n",
      "**Hints:**\n",
      "1. Start by loading and exploring the dataset to understand the features and the target variable (price).\n",
      "2. Preprocess the data by handling missing values, encoding categorical variables, and scaling numerical features if necessary.\n",
      "3. Split the dataset into training and testing sets to train and evaluate your model.\n",
      "4. Choose a supervised learning algorithm (e.g., linear regression, decision tree, random forest) to build your predictive model.\n",
      "5. Train the model on the training data and evaluate its performance using metrics like mean squared error or R-squared.\n",
      "6. Fine-tune your model by adjusting hyperparameters or trying different algorithms to improve its predictive accuracy.\n",
      "7. Finally, make predictions on the test set and assess how well your model generalizes to unseen data.\n",
      "\n",
      "By working through this exercise, you will gain hands-on experience in applying supervised learning techniques to solve a real-world regression problem. Good luck!\n"
     ]
    },
    {
     "name": "stderr",
     "output_type": "stream",
     "text": [
      "INFO:httpx:HTTP Request: POST https://api.openai.com/v1/chat/completions \"HTTP/1.1 200 OK\"\n"
     ]
    },
    {
     "name": "stdout",
     "output_type": "stream",
     "text": [
      "==================================\u001b[1m Ai Message \u001b[0m==================================\n",
      "\n",
      "To deepen your understanding of machine learning, here are some recommended resources:\n",
      "\n",
      "### Books:\n",
      "1. **\"Introduction to Machine Learning with Python: A Guide for Data Scientists\"** by Andreas C. Müller and Sarah Guido\n",
      "   - This book provides a practical introduction to machine learning using Python. It covers essential concepts, techniques, and tools for building machine learning models.\n",
      "\n",
      "2. **\"Pattern Recognition and Machine Learning\"** by Christopher M. Bishop\n",
      "   - This comprehensive book covers the fundamental concepts of pattern recognition and machine learning. It delves into topics like Bayesian methods, neural networks, and kernel methods.\n",
      "\n",
      "### Online Courses:\n",
      "1. **Machine Learning by Stanford University on Coursera**\n",
      "   - This course by Andrew Ng is a popular choice for beginners in machine learning. It covers a wide range of topics including supervised learning, unsupervised learning, and deep learning.\n",
      "\n",
      "2. **Machine Learning Specialization by University of Washington on Coursera**\n",
      "   - This specialization consists of a series of courses that delve into machine learning algorithms, regression, classification, clustering, and recommender systems. It provides a hands-on approach to learning machine learning concepts.\n",
      "\n",
      "### Tutorials and Articles:\n",
      "1. **\"A Visual Introduction to Machine Learning\" by R2D3**\n",
      "   - This interactive tutorial provides a visual introduction to machine learning concepts like decision trees, overfitting, and ensemble models. It's a great resource for beginners to grasp complex concepts easily.\n",
      "\n",
      "2. **\"Machine Learning Mastery\" by Jason Brownlee**\n",
      "   - This website offers a wealth of tutorials, articles, and resources on machine learning. It covers various topics ranging from beginner tutorials to advanced techniques, making it a valuable resource for learners at all levels.\n",
      "\n",
      "Feel free to explore these resources to enhance your knowledge and skills in machine learning over the next 4 weeks. Happy learning!\n",
      "\n",
      "Study plan, concept explanation, practical exercise, and resource recommendations completed!\n",
      "Is there anything else you'd like to know?\n"
     ]
    },
    {
     "name": "stderr",
     "output_type": "stream",
     "text": [
      "INFO:httpx:HTTP Request: POST https://api.openai.com/v1/chat/completions \"HTTP/1.1 200 OK\"\n"
     ]
    },
    {
     "name": "stdout",
     "output_type": "stream",
     "text": [
      "==================================\u001b[1m Ai Message \u001b[0m==================================\n",
      "Tool Calls:\n",
      "  StudyPlan (call_UpukcFRB4lAYW8stqJe4vCoZ)\n",
      " Call ID: call_UpukcFRB4lAYW8stqJe4vCoZ\n",
      "  Args:\n",
      "    topic: Generative AI\n",
      "    duration: 4 weeks\n",
      "    key_concepts: ['Generative Adversarial Networks (GANs)', 'Variational Autoencoders (VAEs)', 'Recurrent Neural Networks (RNNs) for Sequence Generation', 'Transformer Models', 'Applications of Generative AI']\n",
      "=================================\u001b[1m Tool Message \u001b[0m=================================\n",
      "\n",
      "Study plan generated!\n"
     ]
    },
    {
     "name": "stderr",
     "output_type": "stream",
     "text": [
      "INFO:httpx:HTTP Request: POST https://api.openai.com/v1/chat/completions \"HTTP/1.1 200 OK\"\n"
     ]
    },
    {
     "name": "stdout",
     "output_type": "stream",
     "text": [
      "==================================\u001b[1m Ai Message \u001b[0m==================================\n",
      "\n",
      "Here is a breakdown of key concepts related to Generative AI that you can study over the next 4 weeks:\n",
      "\n",
      "1. **Generative Adversarial Networks (GANs)**:\n",
      "   - **Definition**: GANs are a class of neural networks that are used to generate new data samples that resemble a given dataset. They consist of two networks - a generator and a discriminator - that are trained adversarially.\n",
      "   - **Importance**: GANs have revolutionized the field of generative modeling by enabling the creation of realistic images, videos, and other data types. They are widely used in image synthesis, style transfer, and data augmentation.\n",
      "\n",
      "2. **Variational Autoencoders (VAEs)**:\n",
      "   - **Definition**: VAEs are generative models that learn to encode and decode data into a latent space. They are trained to reconstruct input data while also generating new samples by sampling from the learned latent space.\n",
      "   - **Importance**: VAEs are valuable for tasks like image generation, anomaly detection, and data compression. They provide a probabilistic framework for generative modeling and can learn meaningful representations of complex data.\n",
      "\n",
      "3. **Recurrent Neural Networks (RNNs) for Sequence Generation**:\n",
      "   - **Definition**: RNNs are a type of neural network designed to handle sequential data by maintaining internal memory. They are commonly used in generative tasks like text generation, music composition, and speech synthesis.\n",
      "   - **Importance**: RNNs excel at capturing temporal dependencies in data and are well-suited for generating sequences of variable length. They have applications in natural language processing, time series prediction, and other sequential tasks.\n",
      "\n",
      "4. **Transformer Models**:\n",
      "   - **Definition**: Transformer models are a type of neural network architecture that has gained popularity for various natural language processing tasks. They rely on self-attention mechanisms to capture long-range dependencies in data.\n",
      "   - **Importance**: Transformers have shown remarkable performance in tasks like language translation, text summarization, and language modeling. They are highly parallelizable and have become the backbone of state-of-the-art generative models.\n",
      "\n",
      "5. **Applications of Generative AI**:\n",
      "   - **Definition**: Generative AI has a wide range of applications across different domains, including image generation, text generation, music composition, and drug discovery.\n",
      "   - **Importance**: Generative AI techniques enable the creation of new and realistic data samples, opening up possibilities for creative applications, content generation, and data augmentation in various industries.\n",
      "\n",
      "By studying these key concepts in Generative AI, you will gain insights into cutting-edge techniques for generating new data and creative outputs using artificial intelligence. Good luck with your studies over the next 4 weeks!\n"
     ]
    },
    {
     "name": "stderr",
     "output_type": "stream",
     "text": [
      "INFO:httpx:HTTP Request: POST https://api.openai.com/v1/chat/completions \"HTTP/1.1 200 OK\"\n"
     ]
    },
    {
     "name": "stdout",
     "output_type": "stream",
     "text": [
      "==================================\u001b[1m Ai Message \u001b[0m==================================\n",
      "\n",
      "Here is a practical exercise to reinforce your understanding of Generative Adversarial Networks (GANs):\n",
      "\n",
      "**Problem Statement:**\n",
      "You are tasked with creating a GAN model to generate realistic images of handwritten digits (0-9) from the MNIST dataset. The generator network should learn to create new digit images that closely resemble the original dataset, while the discriminator network should distinguish between real and generated images.\n",
      "\n",
      "**Hints:**\n",
      "1. Load the MNIST dataset containing images of handwritten digits and preprocess the data.\n",
      "2. Design the architecture of the generator and discriminator networks. The generator should generate fake images, while the discriminator should classify between real and fake images.\n",
      "3. Train the GAN model in an adversarial manner: the generator tries to fool the discriminator, and the discriminator tries to differentiate between real and fake images.\n",
      "4. Monitor the training process and evaluate the performance of the GAN using metrics like loss and image quality.\n",
      "5. Generate new digit images using the trained GAN model and visualize the results to see how well the generator has learned to create realistic digit images.\n",
      "\n",
      "By working on this exercise, you will gain hands-on experience in building and training GAN models for image generation tasks. It will help you understand the principles of generative modeling and how GANs can be used to create new data samples. Good luck!\n"
     ]
    },
    {
     "name": "stderr",
     "output_type": "stream",
     "text": [
      "INFO:httpx:HTTP Request: POST https://api.openai.com/v1/chat/completions \"HTTP/1.1 200 OK\"\n"
     ]
    },
    {
     "name": "stdout",
     "output_type": "stream",
     "text": [
      "==================================\u001b[1m Ai Message \u001b[0m==================================\n",
      "\n",
      "To deepen your understanding of Generative AI, here are some recommended resources:\n",
      "\n",
      "### Books:\n",
      "1. **\"Generative Deep Learning: Teaching Machines to Paint, Write, Compose, and Play\"** by David Foster\n",
      "   - This book provides a comprehensive overview of generative models in deep learning, covering topics like GANs, VAEs, and autoregressive models. It includes practical examples and code implementations to help you understand and apply generative techniques.\n",
      "\n",
      "2. **\"Deep Learning for Computer Vision: Expert techniques to train advanced neural networks using TensorFlow and Keras\"** by Rajalingappaa Shanmugamani\n",
      "   - While not solely focused on generative AI, this book covers deep learning concepts relevant to computer vision tasks, including generative models. It can help you understand how generative models are applied in image generation and other computer vision applications.\n",
      "\n",
      "### Online Courses:\n",
      "1. **\"Generative Adversarial Networks (GANs) Specialization\" on Coursera**\n",
      "   - This specialization by DeepLearning.AI provides a deep dive into GANs, covering topics like the theory behind GANs, their applications, and hands-on projects to build GAN models. It's a great resource for learning about GANs in depth.\n",
      "\n",
      "2. **\"Deep Learning Specialization\" on Coursera**\n",
      "   - This specialization by Andrew Ng covers a wide range of deep learning topics, including generative models like GANs and VAEs. It provides a solid foundation in deep learning concepts and practical skills for building and training neural networks.\n",
      "\n",
      "### Tutorials and Articles:\n",
      "1. **\"A Gentle Introduction to Generative Adversarial Networks (GANs)\" by Jason Brownlee**\n",
      "   - This tutorial provides a beginner-friendly introduction to GANs, explaining the basic concepts and components of GANs with code examples in Python. It's a great starting point for understanding GANs.\n",
      "\n",
      "2. **\"Understanding Variational Autoencoders (VAEs) in Depth\" by Denny Britz**\n",
      "   - This in-depth article explains VAEs, their architecture, training process, and applications. It also includes code examples and visualizations to help you grasp the concepts behind VAEs.\n",
      "\n",
      "Feel free to explore these resources to enhance your knowledge and skills in Generative AI. They will provide you with a solid foundation to dive deeper into generative modeling and its applications. Happy learning!\n",
      "\n",
      "Study plan, concept explanation, practical exercise, and resource recommendations completed!\n",
      "Is there anything else you'd like to know?\n",
      "Thank you for using the Data Science Study Assistant! Good luck with your studies!\n",
      "Tracing Completed.\n",
      "Data saved to the database and JSON file.\n",
      "\n",
      "Trace ID: 103\n"
     ]
    }
   ],
   "source": [
    "if __name__ == \"__main__\":\n",
    "    try:\n",
    "        run_interaction()\n",
    "    finally:\n",
    "        tracer.stop()\n",
    "        print(f\"Trace ID: {tracer.trace_id}\")\n",
    "        \n"
   ]
  },
  {
   "cell_type": "code",
   "execution_count": 13,
   "metadata": {},
   "outputs": [
    {
     "name": "stderr",
     "output_type": "stream",
     "text": [
      "\u001b[92m11:36:39 - LiteLLM:INFO\u001b[0m: utils.py:2686 - \n",
      "LiteLLM completion() model= gpt-4o-mini; provider = openai\n",
      "INFO:LiteLLM:\n",
      "LiteLLM completion() model= gpt-4o-mini; provider = openai\n",
      "INFO:httpx:HTTP Request: POST https://api.openai.com/v1/chat/completions \"HTTP/1.1 200 OK\"\n",
      "\u001b[92m11:37:26 - LiteLLM:INFO\u001b[0m: utils.py:937 - Wrapper: Completed Call, calling success_handler\n",
      "INFO:LiteLLM:Wrapper: Completed Call, calling success_handler\n",
      "\u001b[92m11:37:26 - LiteLLM:INFO\u001b[0m: utils.py:2686 - \n",
      "LiteLLM completion() model= gpt-4o-mini; provider = openai\n",
      "INFO:LiteLLM:\n",
      "LiteLLM completion() model= gpt-4o-mini; provider = openai\n",
      "INFO:httpx:HTTP Request: POST https://api.openai.com/v1/chat/completions \"HTTP/1.1 200 OK\"\n",
      "\u001b[92m11:38:15 - LiteLLM:INFO\u001b[0m: utils.py:937 - Wrapper: Completed Call, calling success_handler\n",
      "INFO:LiteLLM:Wrapper: Completed Call, calling success_handler\n",
      "\u001b[92m11:38:15 - LiteLLM:INFO\u001b[0m: utils.py:2686 - \n",
      "LiteLLM completion() model= gpt-4o-mini; provider = openai\n",
      "INFO:LiteLLM:\n",
      "LiteLLM completion() model= gpt-4o-mini; provider = openai\n",
      "INFO:httpx:HTTP Request: POST https://api.openai.com/v1/chat/completions \"HTTP/1.1 200 OK\"\n",
      "\u001b[92m11:39:08 - LiteLLM:INFO\u001b[0m: utils.py:937 - Wrapper: Completed Call, calling success_handler\n",
      "INFO:LiteLLM:Wrapper: Completed Call, calling success_handler\n",
      "\u001b[92m11:39:08 - LiteLLM:INFO\u001b[0m: utils.py:2686 - \n",
      "LiteLLM completion() model= gpt-4o-mini; provider = openai\n",
      "INFO:LiteLLM:\n",
      "LiteLLM completion() model= gpt-4o-mini; provider = openai\n",
      "INFO:httpx:HTTP Request: POST https://api.openai.com/v1/chat/completions \"HTTP/1.1 200 OK\"\n",
      "\u001b[92m11:39:11 - LiteLLM:INFO\u001b[0m: utils.py:937 - Wrapper: Completed Call, calling success_handler\n",
      "INFO:LiteLLM:Wrapper: Completed Call, calling success_handler\n"
     ]
    }
   ],
   "source": [
    "results = execute_metrics(neo_session, tracer.trace_id)\n"
   ]
  },
  {
   "cell_type": "code",
   "execution_count": 14,
   "metadata": {},
   "outputs": [
    {
     "name": "stdout",
     "output_type": "stream",
     "text": [
      "\n",
      "Metrics Results:\n",
      "[{'metric_name': 'goal_decomposition_efficiency', 'score': 0.85, 'reason': \"The decomposition effectively breaks down the original goal into clear and actionable sub-tasks that cover all aspects of the study plan. Each sub-task is logically sequenced and addresses specific components of the learning process, such as key concepts, practical exercises, and resource recommendations. However, while the tasks are well-defined, the allocation of time for each concept could be more explicitly detailed to enhance granularity. Overall, the decomposition is efficient and aligns well with the user's goal.\", 'result_detail': {'metric_name': 'goal_fulfillment_rate', 'config': {}, 'result': {'originalGoal': 'Create a structured study plan for learning machine learning over a duration of four weeks.', 'subtasks': ['Create a study plan for Machine Learning covering the following key concepts: Introduction to Machine Learning, Supervised Learning, Unsupervised Learning, Model Evaluation and Selection, Feature Engineering.', 'Allocate time for each concept over the 4-week duration.', 'Include practical exercises to reinforce understanding, such as building a supervised machine learning model to predict housing prices and creating a GAN model to generate realistic images of handwritten digits.', 'Recommend resources for further learning, including books on machine learning and generative models, online courses specializing in machine learning and GANs, and tutorials and articles for hands-on practice and deeper understanding.'], 'score': 0.85, 'reason': \"The decomposition effectively breaks down the original goal into clear and actionable sub-tasks that cover all aspects of the study plan. Each sub-task is logically sequenced and addresses specific components of the learning process, such as key concepts, practical exercises, and resource recommendations. However, while the tasks are well-defined, the allocation of time for each concept could be more explicitly detailed to enhance granularity. Overall, the decomposition is efficient and aligns well with the user's goal.\"}}, 'config': {}, 'start_time': '2024-10-22T11:36:39.958005', 'end_time': '2024-10-22T11:39:08.596243', 'duration': 148.638238}, {'metric_name': 'goal_fulfillment_rate', 'score': 0.2, 'reason': \"The user query indicates a desire to study machine learning for 4 weeks, but the system response focuses on resources related to Generative AI specifically. While generative AI is a subset of machine learning, the response does not address the user's broader interest in studying machine learning as a whole. The user may be looking for a more comprehensive study plan or resources that cover various aspects of machine learning, not just generative models. Therefore, the response partially fulfills the user's request but does not align closely with the user's intent, leading to a low goal fulfillment rate.\", 'result_detail': {'metric_name': 'goal_fulfillment_rate', 'config': {}, 'result': {'inputGoal': {'arg_0': 'self (instance)', 'arg_1': {'messages': [\"content='i wnat ot study machine learning for 4 weeks ' additional_kwargs={} response_metadata={} id='c675da6e-2321-4969-9fef-3c43e820b6f7'\"]}}, 'finalResponse': '{\\'messages\\': [AIMessage(content=\\'To deepen your understanding of Generative AI, here are some recommended resources:\\\\n\\\\n### Books:\\\\n1. **\"Generative Deep Learning: Teaching Machines to Paint, Write, Compose, and Play\"** by David Foster\\\\n   - This book provides a comprehensive overview of generative models in deep learning, covering topics like GANs, VAEs, and autoregressive models. It includes practical examples and code implementations to help you understand and apply generative techniques.\\\\n\\\\n2. **\"Deep Learning for Computer Vision: Expert techniques to train advanced neural networks using TensorFlow and Keras\"** by Rajalingappaa Shanmugamani\\\\n   - While not solely focused on generative AI, this book covers deep learning concepts relevant to computer vision tasks, including generative models. It can help you understand how generative models are applied in image generation and other computer vision applications.\\\\n\\\\n### Online Courses:\\\\n1. **\"Generative Adversarial Networks (GANs) Specialization\" on Coursera**\\\\n   - This specialization by DeepLearning.AI provides a deep dive into GANs, covering topics like the theory behind GANs, their applications, and hands-on projects to build GAN models. It\\\\\\'s a great resource for learning about GANs in depth.\\\\n\\\\n2. **\"Deep Learning Specialization\" on Coursera**\\\\n   - This specialization by Andrew Ng covers a wide range of deep learning topics, including generative models like GANs and VAEs. It provides a solid foundation in deep learning concepts and practical skills for building and training neural networks.\\\\n\\\\n### Tutorials and Articles:\\\\n1. **\"A Gentle Introduction to Generative Adversarial Networks (GANs)\" by Jason Brownlee**\\\\n   - This tutorial provides a beginner-friendly introduction to GANs, explaining the basic concepts and components of GANs with code examples in Python. It\\\\\\'s a great starting point for understanding GANs.\\\\n\\\\n2. **\"Understanding Variational Autoencoders (VAEs) in Depth\" by Denny Britz**\\\\n   - This in-depth article explains VAEs, their architecture, training process, and applications. It also includes code examples and visualizations to help you grasp the concepts behind VAEs.\\\\n\\\\nFeel free to explore these resources to enhance your knowledge and skills in Generative AI. They will provide you with a solid foundation to dive deeper into generative modeling and its applications. Happy learning!\\', additional_kwargs={\\'refusal\\': None}, response_metadata={\\'token_usage\\': {\\'completion_tokens\\': 492, \\'prompt_tokens\\': 2227, \\'total_tokens\\': 2719, \\'completion_tokens_details\\': {\\'audio_tokens\\': None, \\'reasoning_tokens\\': 0}, \\'prompt_tokens_details\\': {\\'audio_tokens\\': None, \\'cached_tokens\\': 0}}, \\'model_name\\': \\'gpt-3.5-turbo-0125\\', \\'system_fingerprint\\': None, \\'finish_reason\\': \\'stop\\', \\'logprobs\\': None}, id=\\'run-3faeae83-1082-437a-918f-fc10cd59460d-0\\', usage_metadata={\\'input_tokens\\': 2227, \\'output_tokens\\': 492, \\'total_tokens\\': 2719, \\'input_token_details\\': {\\'cache_read\\': 0}, \\'output_token_details\\': {\\'reasoning\\': 0}})]}', 'score': 0.2, 'reason': \"The user query indicates a desire to study machine learning for 4 weeks, but the system response focuses on resources related to Generative AI specifically. While generative AI is a subset of machine learning, the response does not address the user's broader interest in studying machine learning as a whole. The user may be looking for a more comprehensive study plan or resources that cover various aspects of machine learning, not just generative models. Therefore, the response partially fulfills the user's request but does not align closely with the user's intent, leading to a low goal fulfillment rate.\"}}, 'config': {}, 'start_time': '2024-10-22T11:39:08.601335', 'end_time': '2024-10-22T11:39:11.355997', 'duration': 2.754662}, {'metric_name': 'tool_call_success_rate_metric', 'score': 0.8888888888888888, 'reason': '{\"successful_calls\": 16, \"total_calls\": 18}', 'result_detail': {'metric_name': 'tool_call_success_rate', 'config': {}, 'result': {'score': 0.8888888888888888, 'reason': '{\"successful_calls\": 16, \"total_calls\": 18}'}}, 'config': {}, 'start_time': '2024-10-22T11:39:11.355997', 'end_time': '2024-10-22T11:39:11.357125', 'duration': 0.001128}]\n"
     ]
    }
   ],
   "source": [
    "# Display results\n",
    "print_metrics_results(results)\n",
    "        \n"
   ]
  },
  {
   "cell_type": "code",
   "execution_count": 15,
   "metadata": {},
   "outputs": [
    {
     "data": {
      "text/plain": [
       "[{'metric_name': 'goal_decomposition_efficiency',\n",
       "  'score': 0.85,\n",
       "  'reason': \"The decomposition effectively breaks down the original goal into clear and actionable sub-tasks that cover all aspects of the study plan. Each sub-task is logically sequenced and addresses specific components of the learning process, such as key concepts, practical exercises, and resource recommendations. However, while the tasks are well-defined, the allocation of time for each concept could be more explicitly detailed to enhance granularity. Overall, the decomposition is efficient and aligns well with the user's goal.\",\n",
       "  'result_detail': {'metric_name': 'goal_fulfillment_rate',\n",
       "   'config': {},\n",
       "   'result': {'originalGoal': 'Create a structured study plan for learning machine learning over a duration of four weeks.',\n",
       "    'subtasks': ['Create a study plan for Machine Learning covering the following key concepts: Introduction to Machine Learning, Supervised Learning, Unsupervised Learning, Model Evaluation and Selection, Feature Engineering.',\n",
       "     'Allocate time for each concept over the 4-week duration.',\n",
       "     'Include practical exercises to reinforce understanding, such as building a supervised machine learning model to predict housing prices and creating a GAN model to generate realistic images of handwritten digits.',\n",
       "     'Recommend resources for further learning, including books on machine learning and generative models, online courses specializing in machine learning and GANs, and tutorials and articles for hands-on practice and deeper understanding.'],\n",
       "    'score': 0.85,\n",
       "    'reason': \"The decomposition effectively breaks down the original goal into clear and actionable sub-tasks that cover all aspects of the study plan. Each sub-task is logically sequenced and addresses specific components of the learning process, such as key concepts, practical exercises, and resource recommendations. However, while the tasks are well-defined, the allocation of time for each concept could be more explicitly detailed to enhance granularity. Overall, the decomposition is efficient and aligns well with the user's goal.\"}},\n",
       "  'config': {},\n",
       "  'start_time': '2024-10-22T11:36:39.958005',\n",
       "  'end_time': '2024-10-22T11:39:08.596243',\n",
       "  'duration': 148.638238},\n",
       " {'metric_name': 'goal_fulfillment_rate',\n",
       "  'score': 0.2,\n",
       "  'reason': \"The user query indicates a desire to study machine learning for 4 weeks, but the system response focuses on resources related to Generative AI specifically. While generative AI is a subset of machine learning, the response does not address the user's broader interest in studying machine learning as a whole. The user may be looking for a more comprehensive study plan or resources that cover various aspects of machine learning, not just generative models. Therefore, the response partially fulfills the user's request but does not align closely with the user's intent, leading to a low goal fulfillment rate.\",\n",
       "  'result_detail': {'metric_name': 'goal_fulfillment_rate',\n",
       "   'config': {},\n",
       "   'result': {'inputGoal': {'arg_0': 'self (instance)',\n",
       "     'arg_1': {'messages': [\"content='i wnat ot study machine learning for 4 weeks ' additional_kwargs={} response_metadata={} id='c675da6e-2321-4969-9fef-3c43e820b6f7'\"]}},\n",
       "    'finalResponse': '{\\'messages\\': [AIMessage(content=\\'To deepen your understanding of Generative AI, here are some recommended resources:\\\\n\\\\n### Books:\\\\n1. **\"Generative Deep Learning: Teaching Machines to Paint, Write, Compose, and Play\"** by David Foster\\\\n   - This book provides a comprehensive overview of generative models in deep learning, covering topics like GANs, VAEs, and autoregressive models. It includes practical examples and code implementations to help you understand and apply generative techniques.\\\\n\\\\n2. **\"Deep Learning for Computer Vision: Expert techniques to train advanced neural networks using TensorFlow and Keras\"** by Rajalingappaa Shanmugamani\\\\n   - While not solely focused on generative AI, this book covers deep learning concepts relevant to computer vision tasks, including generative models. It can help you understand how generative models are applied in image generation and other computer vision applications.\\\\n\\\\n### Online Courses:\\\\n1. **\"Generative Adversarial Networks (GANs) Specialization\" on Coursera**\\\\n   - This specialization by DeepLearning.AI provides a deep dive into GANs, covering topics like the theory behind GANs, their applications, and hands-on projects to build GAN models. It\\\\\\'s a great resource for learning about GANs in depth.\\\\n\\\\n2. **\"Deep Learning Specialization\" on Coursera**\\\\n   - This specialization by Andrew Ng covers a wide range of deep learning topics, including generative models like GANs and VAEs. It provides a solid foundation in deep learning concepts and practical skills for building and training neural networks.\\\\n\\\\n### Tutorials and Articles:\\\\n1. **\"A Gentle Introduction to Generative Adversarial Networks (GANs)\" by Jason Brownlee**\\\\n   - This tutorial provides a beginner-friendly introduction to GANs, explaining the basic concepts and components of GANs with code examples in Python. It\\\\\\'s a great starting point for understanding GANs.\\\\n\\\\n2. **\"Understanding Variational Autoencoders (VAEs) in Depth\" by Denny Britz**\\\\n   - This in-depth article explains VAEs, their architecture, training process, and applications. It also includes code examples and visualizations to help you grasp the concepts behind VAEs.\\\\n\\\\nFeel free to explore these resources to enhance your knowledge and skills in Generative AI. They will provide you with a solid foundation to dive deeper into generative modeling and its applications. Happy learning!\\', additional_kwargs={\\'refusal\\': None}, response_metadata={\\'token_usage\\': {\\'completion_tokens\\': 492, \\'prompt_tokens\\': 2227, \\'total_tokens\\': 2719, \\'completion_tokens_details\\': {\\'audio_tokens\\': None, \\'reasoning_tokens\\': 0}, \\'prompt_tokens_details\\': {\\'audio_tokens\\': None, \\'cached_tokens\\': 0}}, \\'model_name\\': \\'gpt-3.5-turbo-0125\\', \\'system_fingerprint\\': None, \\'finish_reason\\': \\'stop\\', \\'logprobs\\': None}, id=\\'run-3faeae83-1082-437a-918f-fc10cd59460d-0\\', usage_metadata={\\'input_tokens\\': 2227, \\'output_tokens\\': 492, \\'total_tokens\\': 2719, \\'input_token_details\\': {\\'cache_read\\': 0}, \\'output_token_details\\': {\\'reasoning\\': 0}})]}',\n",
       "    'score': 0.2,\n",
       "    'reason': \"The user query indicates a desire to study machine learning for 4 weeks, but the system response focuses on resources related to Generative AI specifically. While generative AI is a subset of machine learning, the response does not address the user's broader interest in studying machine learning as a whole. The user may be looking for a more comprehensive study plan or resources that cover various aspects of machine learning, not just generative models. Therefore, the response partially fulfills the user's request but does not align closely with the user's intent, leading to a low goal fulfillment rate.\"}},\n",
       "  'config': {},\n",
       "  'start_time': '2024-10-22T11:39:08.601335',\n",
       "  'end_time': '2024-10-22T11:39:11.355997',\n",
       "  'duration': 2.754662},\n",
       " {'metric_name': 'tool_call_success_rate_metric',\n",
       "  'score': 0.8888888888888888,\n",
       "  'reason': '{\"successful_calls\": 16, \"total_calls\": 18}',\n",
       "  'result_detail': {'metric_name': 'tool_call_success_rate',\n",
       "   'config': {},\n",
       "   'result': {'score': 0.8888888888888888,\n",
       "    'reason': '{\"successful_calls\": 16, \"total_calls\": 18}'}},\n",
       "  'config': {},\n",
       "  'start_time': '2024-10-22T11:39:11.355997',\n",
       "  'end_time': '2024-10-22T11:39:11.357125',\n",
       "  'duration': 0.001128}]"
      ]
     },
     "execution_count": 15,
     "metadata": {},
     "output_type": "execute_result"
    }
   ],
   "source": [
    "results"
   ]
  },
  {
   "cell_type": "code",
   "execution_count": 16,
   "metadata": {},
   "outputs": [
    {
     "name": "stderr",
     "output_type": "stream",
     "text": [
      "INFO:root:Dashboard launched successfully. Access it at: http://localhost:3000\n"
     ]
    }
   ],
   "source": [
    "# Launch dashboard\n",
    "launch_metrics_dashboard(neo_session)"
   ]
  }
 ],
 "metadata": {
  "kernelspec": {
   "display_name": "venv",
   "language": "python",
   "name": "python3"
  },
  "language_info": {
   "codemirror_mode": {
    "name": "ipython",
    "version": 3
   },
   "file_extension": ".py",
   "mimetype": "text/x-python",
   "name": "python",
   "nbconvert_exporter": "python",
   "pygments_lexer": "ipython3",
   "version": "3.12.6"
  }
 },
 "nbformat": 4,
 "nbformat_minor": 2
}
