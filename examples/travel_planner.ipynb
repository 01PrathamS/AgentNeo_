{
 "cells": [
  {
   "cell_type": "markdown",
   "metadata": {},
   "source": [
    "# Travel Agent Planner with AgentNeo Integration\n",
    "\n",
    "This Jupyter notebook demonstrates the integration of AgentNeo, a powerful tracing and monitoring tool, with a Travel Agent Planner system. AgentNeo provides seamless tracing capabilities for both function calls and AI model interactions, allowing for comprehensive analysis and debugging of complex systems."
   ]
  },
  {
   "cell_type": "markdown",
   "metadata": {},
   "source": [
    "\n",
    "# Setup and Imports\n",
    "First, let's import the necessary libraries and set up our environment."
   ]
  },
  {
   "cell_type": "code",
   "execution_count": 1,
   "metadata": {},
   "outputs": [],
   "source": [
    "import os\n",
    "import requests\n",
    "from dotenv import load_dotenv\n",
    "from litellm import completion\n",
    "import openai\n",
    "from openai import OpenAI"
   ]
  },
  {
   "cell_type": "code",
   "execution_count": 2,
   "metadata": {},
   "outputs": [],
   "source": [
    "# Load environment variables\n",
    "load_dotenv(\"enter your .env file path \")\n",
    "\n",
    "\n",
    "# Initialize OpenAI API\n",
    "openai.api_key = os.getenv(\"OPENAI_API_KEY\")\n",
    "\n"
   ]
  },
  {
   "cell_type": "code",
   "execution_count": 3,
   "metadata": {},
   "outputs": [
    {
     "name": "stdout",
     "output_type": "stream",
     "text": [
      "Project connected successfully\n",
      "Project 'ai_travel_agent_demo1' found.\n",
      "Tracing Started.\n"
     ]
    }
   ],
   "source": [
    "# Initialize AgentNeo Package\n",
    "import os\n",
    "os.chdir('..')\n",
    "\n",
    "from agentneo import AgentNeo, Tracer, Evaluation,launch_dashboard\n",
    "# Initialize AgentNeo session\n",
    "# Create project\n",
    "neo_session = AgentNeo(session_name=\"ai_travel_agent_session1\")\n",
    "\n",
    "project_name = \"ai_travel_agent_demo1\"\n",
    "\n",
    "try:\n",
    "    neo_session.create_project(project_name=project_name)\n",
    "    print(\"Project created successfully\")\n",
    "except:\n",
    "    neo_session.connect_project(project_name=project_name)\n",
    "    print(\"Project connected successfully\")\n",
    "# Start tracing\n",
    "tracer = Tracer(session=neo_session)\n",
    "tracer.start()"
   ]
  },
  {
   "cell_type": "markdown",
   "metadata": {},
   "source": [
    "# Travel Agent Tools\n",
    "Now, let's define our Travel Agent Planner Tools with AgentNeo integration."
   ]
  },
  {
   "cell_type": "code",
   "execution_count": 4,
   "metadata": {},
   "outputs": [],
   "source": [
    "@tracer.trace_llm(name=\"llm_call\")\n",
    "def llm_call(prompt, max_tokens=512, model=\"gpt-4o-mini\"):\n",
    "    client = OpenAI(api_key=os.environ[\"OPENAI_API_KEY\"])\n",
    "\n",
    "    response = client.chat.completions.create(\n",
    "        model=model,\n",
    "        messages=[{\"role\": \"user\", \"content\": prompt}],\n",
    "        max_tokens=max_tokens,\n",
    "        temperature=0.7,\n",
    "    )\n",
    "\n",
    "    return response.choices[0].message.content.strip()\n",
    "\n",
    "\n",
    "# Tools outside agents\n",
    "@tracer.trace_tool(name=\"weather_tool\")\n",
    "def weather_tool(destination):\n",
    "\n",
    "    api_key = os.environ.get(\"OPENWEATHERMAP_API_KEY\")\n",
    "    base_url = \"http://api.openweathermap.org/data/2.5/weather\"\n",
    "\n",
    "    params = {\"q\": destination, \"appid\": api_key, \"units\": \"metric\"}\n",
    "\n",
    "    try:\n",
    "        response = requests.get(base_url, params=params)\n",
    "        response.raise_for_status()\n",
    "        data = response.json()\n",
    "\n",
    "        weather_description = data[\"weather\"][0][\"description\"]\n",
    "        temperature = data[\"main\"][\"temp\"]\n",
    "\n",
    "        return f\"{weather_description.capitalize()}, {temperature:.1f}°C\"\n",
    "    except requests.RequestException:\n",
    "        return \"Weather data not available.\"\n",
    "\n",
    "\n",
    "@tracer.trace_tool(name=\"currency_converter_tool\")\n",
    "def currency_converter_tool(amount, from_currency, to_currency):\n",
    "    api_key = os.environ.get(\"EXCHANGERATE_API_KEY\")\n",
    "    base_url = f\"https://v6.exchangerate-api.com/v6/{api_key}/pair/{from_currency}/{to_currency}\"\n",
    "\n",
    "    try:\n",
    "        response = requests.get(base_url)\n",
    "        response.raise_for_status()\n",
    "        data = response.json()\n",
    "\n",
    "        if data[\"result\"] == \"success\":\n",
    "            rate = data[\"conversion_rate\"]\n",
    "            return amount * rate\n",
    "        else:\n",
    "            return None\n",
    "    except requests.RequestException:\n",
    "        return None\n",
    "\n",
    "\n",
    "@tracer.trace_tool(name=\"flight_price_estimator_tool\")\n",
    "def flight_price_estimator_tool(origin, destination):\n",
    "    # This is a mock function. In a real scenario, you'd integrate with a flight API.\n",
    "    api_key = os.environ.get(\"FLIGHT_API_KEY\")\n",
    "    # Implement actual API call here\n",
    "    return f\"Estimated price from {origin} to {destination}: $500-$1000\"\n",
    "\n",
    "\n",
    "# Agent with persona\n",
    "@tracer.trace_agent(name=\"itinerary_agent\")\n",
    "class ItineraryAgent:\n",
    "    def __init__(self, persona=\"Itinerary Agent\"):\n",
    "        self.persona = persona\n",
    "\n",
    "    def plan_itinerary(self, user_preferences, duration=3):\n",
    "        itinerary_prompt = f\"\"\"\n",
    "You are a travel expert named {self.persona}.\n",
    "Based on the following user preferences, create a {duration}-day travel itinerary.\n",
    "\n",
    "User Preferences:\n",
    "{user_preferences}\n",
    "\n",
    "Itinerary:\n",
    "\"\"\"\n",
    "        return llm_call(itinerary_prompt, max_tokens=512)\n",
    "\n",
    "\n"
   ]
  },
  {
   "cell_type": "markdown",
   "metadata": {},
   "source": [
    "\n",
    "# Running the Analysis\n",
    "Now let's create a  main function for our Travel Agent Planner which recall all tools "
   ]
  },
  {
   "cell_type": "code",
   "execution_count": 5,
   "metadata": {},
   "outputs": [],
   "source": [
    "# Main function\n",
    "\n",
    "@tracer.trace_agent(name=\"travel_agent\")\n",
    "def travel_agent():\n",
    "    print(\"Welcome to the Personalized Travel Planner!\\n\")\n",
    "\n",
    "    # Get user input\n",
    "    user_input = input(\"Please describe your ideal vacation: \")\n",
    "\n",
    "    # Extract preferences\n",
    "    preferences_prompt = f\"\"\"\n",
    "Extract key travel preferences from the following user input:\n",
    "\"{user_input}\"\n",
    "\n",
    "Please provide the extracted information in this format:\n",
    "Destination:\n",
    "Activities:\n",
    "Budget:\n",
    "Duration (in days):\n",
    "\"\"\"\n",
    "    extracted_preferences = llm_call(preferences_prompt)\n",
    "    print(\"\\nExtracted Preferences:\")\n",
    "    print(extracted_preferences)\n",
    "\n",
    "    # Parse extracted preferences\n",
    "    preferences = {}\n",
    "    for line in extracted_preferences.split(\"\\n\"):\n",
    "        if \":\" in line:\n",
    "            key, value = line.split(\":\", 1)\n",
    "            preferences[key.strip()] = value.strip()\n",
    "\n",
    "    # Validate extracted preferences\n",
    "    required_keys = [\"Destination\", \"Activities\", \"Budget\", \"Duration (in days)\"]\n",
    "    if not all(key in preferences for key in required_keys):\n",
    "        print(\"\\nCould not extract all required preferences. Please try again.\")\n",
    "        return\n",
    "\n",
    "    # Fetch additional information\n",
    "    weather = weather_tool(preferences[\"Destination\"])\n",
    "    print(f\"\\nWeather in {preferences['Destination']}: {weather}\")\n",
    "\n",
    "    origin = input(\"Please enter your departure city: \")\n",
    "    flight_price = flight_price_estimator_tool(origin, preferences[\"Destination\"])\n",
    "    print(flight_price)\n",
    "\n",
    "    # Plan itinerary\n",
    "    itinerary_agent = ItineraryAgent()\n",
    "    itinerary = itinerary_agent.plan_itinerary(\n",
    "        extracted_preferences, int(preferences[\"Duration (in days)\"])\n",
    "    )\n",
    "    print(\"\\nPlanned Itinerary:\")\n",
    "    print(itinerary)\n",
    "\n",
    "    # Currency conversion\n",
    "    budget_amount = float(preferences[\"Budget\"].replace(\"$\", \"\").replace(\",\", \"\"))\n",
    "    converted_budget = currency_converter_tool(budget_amount, \"USD\", \"INR\")\n",
    "    if converted_budget:\n",
    "        print(f\"\\nBudget in INR: {converted_budget:.2f} INR\")\n",
    "    else:\n",
    "        print(\"\\nCurrency conversion not available.\")\n",
    "\n",
    "    # Generate travel summary\n",
    "    summary_prompt = f\"\"\"\n",
    "Summarize the following travel plan:\n",
    "\n",
    "Destination: {preferences['Destination']}\n",
    "Activities: {preferences['Activities']}\n",
    "Budget: {preferences['Budget']}\n",
    "Duration: {preferences['Duration (in days)']} days\n",
    "Itinerary: {itinerary}\n",
    "Weather: {weather}\n",
    "Flight Price: {flight_price}\n",
    "\n",
    "Travel Summary:\n",
    "\"\"\"\n",
    "    travel_summary = llm_call(summary_prompt, max_tokens=2048)\n",
    "    print(\"\\nTravel Summary:\")\n",
    "    print(travel_summary)"
   ]
  },
  {
   "cell_type": "code",
   "execution_count": 6,
   "metadata": {},
   "outputs": [
    {
     "name": "stdout",
     "output_type": "stream",
     "text": [
      "Welcome to the Personalized Travel Planner!\n",
      "\n"
     ]
    },
    {
     "name": "stderr",
     "output_type": "stream",
     "text": [
      "INFO:httpx:HTTP Request: POST https://api.openai.com/v1/chat/completions \"HTTP/1.1 200 OK\"\n"
     ]
    },
    {
     "name": "stdout",
     "output_type": "stream",
     "text": [
      "\n",
      "Extracted Preferences:\n",
      "Destination: Karela  \n",
      "Activities: Nature  \n",
      "Budget: $100  \n",
      "Duration (in days): 10\n",
      "\n",
      "Weather in Karela: Weather data not available.\n",
      "Estimated price from banglore to Karela: $500-$1000\n"
     ]
    },
    {
     "name": "stderr",
     "output_type": "stream",
     "text": [
      "INFO:httpx:HTTP Request: POST https://api.openai.com/v1/chat/completions \"HTTP/1.1 200 OK\"\n"
     ]
    },
    {
     "name": "stdout",
     "output_type": "stream",
     "text": [
      "\n",
      "Planned Itinerary:\n",
      "### 10-Day Itinerary for Kerala, India (Nature-Focused)\n",
      "\n",
      "#### Overview\n",
      "Kerala, known as \"God's Own Country,\" offers stunning landscapes, lush greenery, and diverse wildlife. This itinerary balances natural beauty with budget-friendly activities, perfect for nature enthusiasts.\n",
      "\n",
      "#### Day 1: Arrival in Kochi\n",
      "- **Morning:** Arrive at Cochin International Airport. Take a local bus to Fort Kochi (approx. $2).\n",
      "- **Afternoon:** Explore Fort Kochi’s beaches and the iconic Chinese fishing nets.\n",
      "- **Evening:** Stroll through the historic streets, visit St. Francis Church, and enjoy street food (approx. $5).\n",
      "\n",
      "#### Day 2: Munnar\n",
      "- **Morning:** Take a local bus to Munnar (approx. $5). \n",
      "- **Afternoon:** Visit the Tea Museum (entry fee approx. $1) and learn about Kerala's tea production.\n",
      "- **Evening:** Explore local markets and enjoy traditional Kerala cuisine at a local eatery (approx. $7).\n",
      "\n",
      "#### Day 3: Munnar - Nature Exploration\n",
      "- **Morning:** Trek to Anamudi Peak (free). Enjoy the breathtaking views and rich biodiversity.\n",
      "- **Afternoon:** Visit Eravikulam National Park (entry fee approx. $5) to see the Nilgiri Tahr.\n",
      "- **Evening:** Return to Munnar town and relax at a local café (approx. $5).\n",
      "\n",
      "#### Day 4: Thekkady\n",
      "- **Morning:** Travel to Thekkady by local bus (approx. $5).\n",
      "- **Afternoon:** Visit Periyar Wildlife Sanctuary (entry fee approx. $5). Enjoy a nature walk or a boat ride on Periyar Lake (boat ride approx. $10).\n",
      "- **Evening:** Participate in a cultural program (approx. $5) featuring Kathakali or Kalaripayattu.\n",
      "\n",
      "#### Day 5: Thekkady - Spice Plantation Tour\n",
      "- **Morning:** Join a spice plantation tour (approx. $5) to learn about Kerala's spices and their uses.\n",
      "- **Afternoon:** Relax and explore local trails for birdwatching (free).\n",
      "- **Evening:** Enjoy a dinner of traditional Kerala meals (approx. $7).\n",
      "\n",
      "#### Day 6: Alleppey\n",
      "- **Morning:** Travel to Alleppey by local bus (approx. $5).\n",
      "- **Afternoon:** Rent a canoe and explore the backwaters (approx. $10).\n",
      "- **Evening:** Visit the\n",
      "\n",
      "Currency conversion not available.\n"
     ]
    },
    {
     "name": "stderr",
     "output_type": "stream",
     "text": [
      "INFO:httpx:HTTP Request: POST https://api.openai.com/v1/chat/completions \"HTTP/1.1 200 OK\"\n",
      "DEBUG:agentneo.tracing.agent_tracer:Successfully updated and committed AgentCallModel with id 38\n",
      "DEBUG:agentneo.tracing.agent_tracer:Successfully updated and committed AgentCallModel with id 37\n"
     ]
    },
    {
     "name": "stdout",
     "output_type": "stream",
     "text": [
      "\n",
      "Travel Summary:\n",
      "**Travel Summary for Kerala, India**\n",
      "\n",
      "- **Destination:** Kerala, India\n",
      "- **Focus:** Nature activities\n",
      "- **Budget:** $100 (excluding flight)\n",
      "- **Duration:** 10 days\n",
      "\n",
      "**Overview:**\n",
      "Kerala, known as \"God's Own Country,\" is celebrated for its stunning landscapes, lush greenery, and diverse wildlife. This 10-day itinerary is designed for nature lovers on a budget.\n",
      "\n",
      "**Itinerary Highlights:**\n",
      "\n",
      "- **Day 1:** Arrive in Kochi, explore Fort Kochi's beaches and historic sites, and enjoy street food.\n",
      "- **Day 2:** Travel to Munnar, visit the Tea Museum, and savor local cuisine.\n",
      "- **Day 3:** Trek to Anamudi Peak, visit Eravikulam National Park, and relax at a café.\n",
      "- **Day 4:** Head to Thekkady, explore Periyar Wildlife Sanctuary, and enjoy a cultural program.\n",
      "- **Day 5:** Participate in a spice plantation tour, birdwatching, and dine on traditional Kerala meals.\n",
      "- **Day 6:** Travel to Alleppey, rent a canoe to explore the backwaters.\n",
      "\n",
      "**Additional Notes:**\n",
      "- Local transportation and activity fees are budget-friendly, with most activities costing under $10.\n",
      "- Estimated flight costs from Bangalore to Kerala range from $500 to $1000, which is not included in the $100 budget for the itinerary.\n",
      "\n",
      "This plan offers a rich experience of Kerala’s natural beauty while remaining cost-effective.\n",
      "Tracing Completed.\n",
      "Data saved to the database and JSON file.\n",
      "\n"
     ]
    }
   ],
   "source": [
    "# Main function to run the travel agent\n",
    "def main():\n",
    "    travel_agent()\n",
    "\n",
    "# Ensure the script runs only when executed directly\n",
    "if __name__ == \"__main__\":\n",
    "    main()\n",
    "    tracer.stop()\n"
   ]
  },
  {
   "cell_type": "markdown",
   "metadata": {},
   "source": [
    "# Metrics Evaluation\n",
    "Supported Metrics\n",
    "Goal Decomposition Efficiency (goal_decomposition_efficiency)\n",
    "Goal Fulfillment Rate (goal_fulfillment_rate)\n",
    "Tool Call Correctness Rate (tool_call_correctness_rate)\n",
    "Tool Call Success Rate (tool_call_success_rate)"
   ]
  },
  {
   "cell_type": "code",
   "execution_count": 8,
   "metadata": {},
   "outputs": [],
   "source": [
    "exe = Evaluation(session=neo_session, trace_id=tracer.trace_id)"
   ]
  },
  {
   "cell_type": "code",
   "execution_count": null,
   "metadata": {},
   "outputs": [],
   "source": [
    "# run a single metric\n",
    "exe.evaluate(metric_list=['goal_decomposition_efficiency', \n",
    "                         'goal_fulfillment_rate', \n",
    "                         'tool_call_correctness_rate', \n",
    "                         'tool_call_success_rate'])"
   ]
  },
  {
   "cell_type": "code",
   "execution_count": 14,
   "metadata": {},
   "outputs": [
    {
     "data": {
      "text/plain": [
       "[{'metric_name': 'goal_fulfillment_rate',\n",
       "  'score': 0.4,\n",
       "  'reason': \"The system responses provide a detailed itinerary for a 10-day trip to Kerala, focusing on nature-related activities, which aligns with the user's intent. However, the budget of $100 is not realistically achievable given the estimated flight costs of $500 to $1000 from Bangalore to Kerala, which are not included in the budget. Additionally, while the itinerary includes various affordable activities and dining options, the overall cost of transportation and activities may exceed the user's budget when considering the total expenses for 10 days. The lack of weather data and currency conversion tools also limits the comprehensiveness of the travel guide. Therefore, while the itinerary is well-structured and relevant, the significant discrepancy between the user's budget and the estimated flight costs leads to a lower fulfillment rate.\",\n",
       "  'result_detail': {'metric_name': 'goal_fulfillment_rate',\n",
       "   'config': {},\n",
       "   'result': {'inputGoal': \"The user aims to create a detailed travel itinerary for a 10-day trip to Kerala, India, focusing on nature-related activities while adhering to a budget of $100. They are seeking a comprehensive plan that includes transportation, activities, and dining options that are affordable and highlight the natural beauty of the region. The conversation reflects a clear intent to explore Kerala's landscapes and wildlife, indicating a preference for budget-friendly experiences that immerse them in the local environment. Overall, the user is looking for a well-structured travel guide that aligns with their preferences and financial constraints.\",\n",
       "    'relevantResponses': 'llm_call: Destination: Karela  \\nActivities: Nature  \\nBudget: $100  \\nDuration (in days): 10  \\n\\nweather_tool: Weather data not available.\\n\\nflight_price_estimator_tool: Estimated price from banglore to Karela: $500-$1000\\n\\nitinerary_agent.plan_itinerary: ### 10-Day Itinerary for Kerala, India (Nature-Focused)\\n\\n#### Overview\\nKerala, known as \"God\\'s Own Country,\" offers stunning landscapes, lush greenery, and diverse wildlife. This itinerary balances natural beauty with budget-friendly activities, perfect for nature enthusiasts.\\n\\n#### Day 1: Arrival in Kochi\\n- **Morning:** Arrive at Cochin International Airport. Take a local bus to Fort Kochi (approx. $2).\\n- **Afternoon:** Explore Fort Kochi’s beaches and the iconic Chinese fishing nets.\\n- **Evening:** Stroll through the historic streets, visit St. Francis Church, and enjoy street food (approx. $5).\\n\\n#### Day 2: Munnar\\n- **Morning:** Take a local bus to Munnar (approx. $5). \\n- **Afternoon:** Visit the Tea Museum (entry fee approx. $1) and learn about Kerala\\'s tea production.\\n- **Evening:** Explore local markets and enjoy traditional Kerala cuisine at a local eatery (approx. $7).\\n\\n#### Day 3: Munnar - Nature Exploration\\n- **Morning:** Trek to Anamudi Peak (free). Enjoy the breathtaking views and rich biodiversity.\\n- **Afternoon:** Visit Eravikulam National Park (entry fee approx. $5) to see the Nilgiri Tahr.\\n- **Evening:** Return to Munnar town and relax at a local café (approx. $5).\\n\\n#### Day 4: Thekkady\\n- **Morning:** Travel to Thekkady by local bus (approx. $5).\\n- **Afternoon:** Visit Periyar Wildlife Sanctuary (entry fee approx. $5). Enjoy a nature walk or a boat ride on Periyar Lake (boat ride approx. $10).\\n- **Evening:** Participate in a cultural program (approx. $5) featuring Kathakali or Kalaripayattu.\\n\\n#### Day 5: Thekkady - Spice Plantation Tour\\n- **Morning:** Join a spice plantation tour (approx. $5) to learn about Kerala\\'s spices and their uses.\\n- **Afternoon:** Relax and explore local trails for birdwatching (free).\\n- **Evening:** Enjoy a dinner of traditional Kerala meals (approx. $7).\\n\\n#### Day 6: Alleppey\\n- **Morning:** Travel to Alleppey by local bus (approx. $5).\\n- **Afternoon:** Rent a canoe and explore the backwaters (approx. $10).\\n- **Evening:** Visit the\\n\\nllm_call: ### 10-Day Itinerary for Kerala, India (Nature-Focused)\\n\\n#### Overview\\nKerala, known as \"God\\'s Own Country,\" offers stunning landscapes, lush greenery, and diverse wildlife. This itinerary balances natural beauty with budget-friendly activities, perfect for nature enthusiasts.\\n\\n#### Day 1: Arrival in Kochi\\n- **Morning:** Arrive at Cochin International Airport. Take a local bus to Fort Kochi (approx. $2).\\n- **Afternoon:** Explore Fort Kochi’s beaches and the iconic Chinese fishing nets.\\n- **Evening:** Stroll through the historic streets, visit St. Francis Church, and enjoy street food (approx. $5).\\n\\n#### Day 2: Munnar\\n- **Morning:** Take a local bus to Munnar (approx. $5). \\n- **Afternoon:** Visit the Tea Museum (entry fee approx. $1) and learn about Kerala\\'s tea production.\\n- **Evening:** Explore local markets and enjoy traditional Kerala cuisine at a local eatery (approx. $7).\\n\\n#### Day 3: Munnar - Nature Exploration\\n- **Morning:** Trek to Anamudi Peak (free). Enjoy the breathtaking views and rich biodiversity.\\n- **Afternoon:** Visit Eravikulam National Park (entry fee approx. $5) to see the Nilgiri Tahr.\\n- **Evening:** Return to Munnar town and relax at a local café (approx. $5).\\n\\n#### Day 4: Thekkady\\n- **Morning:** Travel to Thekkady by local bus (approx. $5).\\n- **Afternoon:** Visit Periyar Wildlife Sanctuary (entry fee approx. $5). Enjoy a nature walk or a boat ride on Periyar Lake (boat ride approx. $10).\\n- **Evening:** Participate in a cultural program (approx. $5) featuring Kathakali or Kalaripayattu.\\n\\n#### Day 5: Thekkady - Spice Plantation Tour\\n- **Morning:** Join a spice plantation tour (approx. $5) to learn about Kerala\\'s spices and their uses.\\n- **Afternoon:** Relax and explore local trails for birdwatching (free).\\n- **Evening:** Enjoy a dinner of traditional Kerala meals (approx. $7).\\n\\n#### Day 6: Alleppey\\n- **Morning:** Travel to Alleppey by local bus (approx. $5).\\n- **Afternoon:** Rent a canoe and explore the backwaters (approx. $10).\\n- **Evening:** Visit the\\n\\ncurrency_converter_tool: None\\n\\nllm_call: **Travel Summary for Kerala, India**\\n\\n- **Destination:** Kerala, India\\n- **Focus:** Nature activities\\n- **Budget:** $100 (excluding flight)\\n- **Duration:** 10 days\\n\\n**Overview:**\\nKerala, known as \"God\\'s Own Country,\" is celebrated for its stunning landscapes, lush greenery, and diverse wildlife. This 10-day itinerary is designed for nature lovers on a budget.\\n\\n**Itinerary Highlights:**\\n\\n- **Day 1:** Arrive in Kochi, explore Fort Kochi\\'s beaches and historic sites, and enjoy street food.\\n- **Day 2:** Travel to Munnar, visit the Tea Museum, and savor local cuisine.\\n- **Day 3:** Trek to Anamudi Peak, visit Eravikulam National Park, and relax at a café.\\n- **Day 4:** Head to Thekkady, explore Periyar Wildlife Sanctuary, and enjoy a cultural program.\\n- **Day 5:** Participate in a spice plantation tour, birdwatching, and dine on traditional Kerala meals.\\n- **Day 6:** Travel to Alleppey, rent a canoe to explore the backwaters.\\n\\n**Additional Notes:**\\n- Local transportation and activity fees are budget-friendly, with most activities costing under $10.\\n- Estimated flight costs from Bangalore to Kerala range from $500 to $1000, which is not included in the $100 budget for the itinerary.\\n\\nThis plan offers a rich experience of Kerala’s natural beauty while remaining cost-effective.',\n",
       "    'score': 0.4,\n",
       "    'reason': \"The system responses provide a detailed itinerary for a 10-day trip to Kerala, focusing on nature-related activities, which aligns with the user's intent. However, the budget of $100 is not realistically achievable given the estimated flight costs of $500 to $1000 from Bangalore to Kerala, which are not included in the budget. Additionally, while the itinerary includes various affordable activities and dining options, the overall cost of transportation and activities may exceed the user's budget when considering the total expenses for 10 days. The lack of weather data and currency conversion tools also limits the comprehensiveness of the travel guide. Therefore, while the itinerary is well-structured and relevant, the significant discrepancy between the user's budget and the estimated flight costs leads to a lower fulfillment rate.\"}},\n",
       "  'config': {},\n",
       "  'start_time': '2024-10-22T17:15:27.779150',\n",
       "  'end_time': '2024-10-22T17:15:33.621620',\n",
       "  'duration': 5.84247},\n",
       " {'metric_name': 'tool_call_correctness_rate',\n",
       "  'score': 0.25,\n",
       "  'reason': 'In this interaction, the user provided specific travel preferences, including a destination (Karela), duration (10 days), budget ($100), and activities (nature). The intended tool for extracting and organizing this information was the \"itinerary_agent.plan_itinerary,\" which is appropriate for the task.\\n\\nHowever, the actual tool usage included three additional calls that were not relevant to the query: the weather_tool, currency_converter_tool, and flight_price_estimator_tool. These tools do not directly assist in extracting or organizing the user\\'s travel preferences, leading to unnecessary calls.\\n\\nThe correctness rate is calculated as the ratio of correct calls to total calls. In this case, there was 1 correct call (to the intended tool) out of 4 total calls, resulting in a correctness rate of 0.25 (or 25%). This low rate indicates that while the correct tool was used, the presence of three irrelevant tool calls significantly impacted the overall effectiveness of the interaction. The analysis suggests that focusing on the intended tool would have improved the correctness rate and streamlined the process.',\n",
       "  'result_detail': {'metric_name': 'tool_correctness',\n",
       "   'config': {},\n",
       "   'result': {'score': 0.25,\n",
       "    'reason': 'In this interaction, the user provided specific travel preferences, including a destination (Karela), duration (10 days), budget ($100), and activities (nature). The intended tool for extracting and organizing this information was the \"itinerary_agent.plan_itinerary,\" which is appropriate for the task.\\n\\nHowever, the actual tool usage included three additional calls that were not relevant to the query: the weather_tool, currency_converter_tool, and flight_price_estimator_tool. These tools do not directly assist in extracting or organizing the user\\'s travel preferences, leading to unnecessary calls.\\n\\nThe correctness rate is calculated as the ratio of correct calls to total calls. In this case, there was 1 correct call (to the intended tool) out of 4 total calls, resulting in a correctness rate of 0.25 (or 25%). This low rate indicates that while the correct tool was used, the presence of three irrelevant tool calls significantly impacted the overall effectiveness of the interaction. The analysis suggests that focusing on the intended tool would have improved the correctness rate and streamlined the process.',\n",
       "    'details': {'correct_calls': 1,\n",
       "     'total_calls': 4,\n",
       "     'intended_tools': ['itinerary_agent.plan_itinerary'],\n",
       "     'available_tools': ['itinerary_agent.plan_itinerary',\n",
       "      'weather_tool',\n",
       "      'currency_converter_tool',\n",
       "      'flight_price_estimator_tool']}}},\n",
       "  'config': {},\n",
       "  'start_time': '2024-10-22T17:16:47.187951',\n",
       "  'end_time': '2024-10-22T17:16:50.488617',\n",
       "  'duration': 3.300666},\n",
       " {'metric_name': 'tool_call_success_rate',\n",
       "  'score': 0.75,\n",
       "  'reason': 'The tool call had an overall success rate of 75%. The main issue was the unavailability of weather data, resulting in one failed call. However, the successful calls provided valuable information, including an estimated price range and a detailed itinerary for Kerala. The tool executed successfully in most cases, with only one failure due to external data limitations.',\n",
       "  'result_detail': {'metric_name': 'tool_call_success_rate',\n",
       "   'config': {},\n",
       "   'result': {'score': 0.75,\n",
       "    'reason': 'The tool call had an overall success rate of 75%. The main issue was the unavailability of weather data, resulting in one failed call. However, the successful calls provided valuable information, including an estimated price range and a detailed itinerary for Kerala. The tool executed successfully in most cases, with only one failure due to external data limitations.'}},\n",
       "  'config': {},\n",
       "  'start_time': '2024-10-22T17:17:40.177470',\n",
       "  'end_time': '2024-10-22T17:17:45.943000',\n",
       "  'duration': 5.76553}]"
      ]
     },
     "execution_count": 14,
     "metadata": {},
     "output_type": "execute_result"
    }
   ],
   "source": [
    "#print metric result\n",
    "metric_results = exe.get_results()\n",
    "metric_results"
   ]
  },
  {
   "cell_type": "code",
   "execution_count": 9,
   "metadata": {},
   "outputs": [
    {
     "name": "stderr",
     "output_type": "stream",
     "text": [
      "INFO:root:Port 3000 is busy. Finding an available port...\n",
      "INFO:root:Using port 3002\n",
      "INFO:root:Dashboard launched successfully. Access it at: http://localhost:3002\n"
     ]
    }
   ],
   "source": [
    "neo_session.launch_dashboard()"
   ]
  }
 ],
 "metadata": {
  "kernelspec": {
   "display_name": "Python 3",
   "language": "python",
   "name": "python3"
  },
  "language_info": {
   "codemirror_mode": {
    "name": "ipython",
    "version": 3
   },
   "file_extension": ".py",
   "mimetype": "text/x-python",
   "name": "python",
   "nbconvert_exporter": "python",
   "pygments_lexer": "ipython3",
   "version": "3.12.2"
  }
 },
 "nbformat": 4,
 "nbformat_minor": 2
}
